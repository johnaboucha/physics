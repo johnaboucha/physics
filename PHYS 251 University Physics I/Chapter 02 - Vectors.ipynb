{
 "cells": [
  {
   "cell_type": "markdown",
   "id": "7faa80ba-7c0c-4f05-b885-a7b0b9344904",
   "metadata": {
    "tags": []
   },
   "source": [
    "# Chapter 02: Vectors"
   ]
  },
  {
   "cell_type": "markdown",
   "id": "64081097-e92d-4b7d-92de-92eac228b9b0",
   "metadata": {},
   "source": [
    "## 01. Distance and Direction\n",
    "\n",
    "A plane takes off from an airport and flies to town A, located $d_{1} = 345 km$ from the airport in the direction 20.0° north of east. The plane then flies to town B, located $d_{2} = 255 km$ at 30.0° west of north from town A. Use graphical methods to determine the distance and direction from town B to the airport. (Enter the distance in km and the direction in degrees south of west.)"
   ]
  },
  {
   "cell_type": "code",
   "execution_count": 24,
   "id": "ab644df6-7788-44ad-a072-93abb531da94",
   "metadata": {
    "tags": []
   },
   "outputs": [
    {
     "name": "stdout",
     "output_type": "stream",
     "text": [
      "Distance: 391.79 km\n",
      "Direction: 30° west of south\n"
     ]
    }
   ],
   "source": [
    "# import math\n",
    "#   - note that math.cos() expects radians as its input\n",
    "import math\n",
    "\n",
    "d1 = 345    # kilometers\n",
    "a1 = 20     # degrees\n",
    "\n",
    "d2 = 255    # kilometers\n",
    "a2 = 30     # degrees\n",
    "\n",
    "i1 = d1 * math.cos(math.radians(a1))\n",
    "j1 = d1 * math.sin(math.radians(a1))\n",
    "\n",
    "i2 = d2 * math.sin(math.radians(a2)) * -1  # second quadrant\n",
    "j2 = d2 * math.cos(math.radians(a2))\n",
    "\n",
    "sum_i = i1 + i2\n",
    "sum_j = j1 + j2\n",
    "\n",
    "magnitude = round(math.sqrt(sum_i*sum_i + sum_j*sum_j), 2)\n",
    "direction = math.floor(math.degrees(math.acos(sum_j/magnitude)))\n",
    "\n",
    "print(\"Distance: \" + str(magnitude) + \" km\")\n",
    "print(\"Direction: \" + str(direction) + \"° west of south\")"
   ]
  },
  {
   "cell_type": "markdown",
   "id": "f2962fd1-a781-4e32-b40e-3ec2547725be",
   "metadata": {},
   "source": [
    "## 02. Vector Addition\n",
    "\n",
    "Vector A has a magnitude of 40 units and points in the positive *y* direction. When vector B is added to A, the resultant vector A+B points in the negative *y* direction with a magnitude of 16 units. Find the magnitude and direction of B."
   ]
  },
  {
   "cell_type": "code",
   "execution_count": 44,
   "id": "11c56f56-0442-4ba6-b46c-9c2d29c00052",
   "metadata": {
    "tags": []
   },
   "outputs": [
    {
     "name": "stdout",
     "output_type": "stream",
     "text": [
      "Magnitude: 56 units\n",
      "Direction: 270° counterclockwise from the +x-axis\n"
     ]
    }
   ],
   "source": [
    "A = 40            # in positive direction\n",
    "A_plus_B = 16     # in negative direction\n",
    "\n",
    "magnitude = A+A_plus_B    # simple arithmetic\n",
    "direction = 270   # simple logic\n",
    "\n",
    "print(\"Magnitude: \" + str(magnitude) + \" units\")\n",
    "print(\"Direction: \" + str(direction) + \"° counterclockwise from the +x-axis\")"
   ]
  },
  {
   "cell_type": "markdown",
   "id": "633a888b-4d3f-4150-8edc-79c24b6060db",
   "metadata": {
    "tags": []
   },
   "source": [
    "## 03. Vector Calculations\n",
    "\n",
    "A vector has an x-component of -25.5 units and a y-component of 35.6 units. Find the magnitude and direction of this vector."
   ]
  },
  {
   "cell_type": "code",
   "execution_count": 42,
   "id": "f8dc5cba-5d56-4da9-9bfd-c616810d8eaa",
   "metadata": {
    "tags": []
   },
   "outputs": [
    {
     "name": "stdout",
     "output_type": "stream",
     "text": [
      "Magnitude: 43.79 units\n",
      "Direction: 125.61° counterclockwise from the +x axis\n"
     ]
    }
   ],
   "source": [
    "x = -25.5\n",
    "y = 35.6\n",
    "\n",
    "magnitude = round(math.sqrt(x**2 + y**2), 2)\n",
    "direction = math.degrees(math.atan(y/x))\n",
    "direction = round(180 + direction, 2)                  # because we're in the second quadrant     \n",
    "\n",
    "print(\"Magnitude: \" + str(magnitude) + \" units\")\n",
    "print(\"Direction: \" + str(direction) + \"° counterclockwise from the +x axis\")"
   ]
  },
  {
   "cell_type": "markdown",
   "id": "9d66c453-3272-4efb-b545-7cdc0b6ae87f",
   "metadata": {
    "tags": []
   },
   "source": [
    "## 04. Vector Addition Again\n",
    "\n",
    "Vector A, with magnitude 24.0 units, points in the positive y-direction. Vector A + B has a magnitude of 11.0 units and points in the −y-direction. What is the magnitude of B?"
   ]
  },
  {
   "cell_type": "code",
   "execution_count": 46,
   "id": "2ca53bdc-a133-47c4-8ff7-01f810cb0b1c",
   "metadata": {
    "tags": []
   },
   "outputs": [
    {
     "name": "stdout",
     "output_type": "stream",
     "text": [
      "Magnitude: 35 units\n"
     ]
    }
   ],
   "source": [
    "A = 24         # in positive direction\n",
    "A_plus_B = 11  # in negative direction\n",
    "\n",
    "magnitude = A + A_plus_B\n",
    "\n",
    "print(\"Magnitude: \" + str(magnitude) + \" units\")"
   ]
  },
  {
   "cell_type": "markdown",
   "id": "0b1a5a70-2570-48cb-9502-a982466811bf",
   "metadata": {},
   "source": [
    "## 05. Unit Vector Notation\n",
    "\n",
    "What is the unit-vector notation for each of the following vectors, all with magnitudes of 30.5?"
   ]
  },
  {
   "cell_type": "code",
   "execution_count": 55,
   "id": "986cc996-4554-4112-b825-a1573045cbb8",
   "metadata": {
    "tags": []
   },
   "outputs": [
    {
     "name": "stdout",
     "output_type": "stream",
     "text": [
      "E = 17.49i, 24.98j\n",
      "\n",
      "F = -24.98i, 17.49j\n",
      "\n",
      "G = -24.98i, -17.49j\n",
      "\n"
     ]
    }
   ],
   "source": [
    "magnitude = 30.5\n",
    "\n",
    "# (a) Vector E with direction of 55.0° counterclockwise from the +x-axis.\n",
    "a = 55.0\n",
    "i = round(magnitude * math.cos(math.radians(a)), 2)\n",
    "j = round(magnitude * math.sin(math.radians(a)), 2)\n",
    "\n",
    "print(\"E = \"+str(i)+\"i, \"+str(j)+\"j\\n\")\n",
    "\n",
    "# (b) Vector F with direction of 55.0° counterclockwise from the +y-axis.\n",
    "a = 90 + 55\n",
    "i = round(magnitude * math.cos(math.radians(a)), 2)\n",
    "j = round(magnitude * math.sin(math.radians(a)), 2)\n",
    "\n",
    "print(\"F = \"+str(i)+\"i, \"+str(j)+\"j\\n\")\n",
    "\n",
    "# Vector G with direction of 55.0° clockwise from the −y-axis.\n",
    "a = 270 - 55\n",
    "i = round(magnitude * math.cos(math.radians(a)), 2)\n",
    "j = round(magnitude * math.sin(math.radians(a)), 2)\n",
    "\n",
    "print(\"G = \"+str(i)+\"i, \"+str(j)+\"j\\n\")"
   ]
  },
  {
   "cell_type": "code",
   "execution_count": null,
   "id": "6f41102c-85cf-4f3e-a2b7-53753938d871",
   "metadata": {},
   "outputs": [],
   "source": []
  }
 ],
 "metadata": {
  "kernelspec": {
   "display_name": "Python 3 (ipykernel)",
   "language": "python",
   "name": "python3"
  },
  "language_info": {
   "codemirror_mode": {
    "name": "ipython",
    "version": 3
   },
   "file_extension": ".py",
   "mimetype": "text/x-python",
   "name": "python",
   "nbconvert_exporter": "python",
   "pygments_lexer": "ipython3",
   "version": "3.11.5"
  }
 },
 "nbformat": 4,
 "nbformat_minor": 5
}
