{
 "cells": [
  {
   "cell_type": "markdown",
   "id": "1fbb2294-da37-4123-baa2-ccae56d407fb",
   "metadata": {
    "tags": []
   },
   "source": [
    "# Chapter 01: Physics and Measurement"
   ]
  },
  {
   "cell_type": "markdown",
   "id": "6f80fab1-a5ea-44dc-a20b-56c8ad08a78e",
   "metadata": {},
   "source": [
    "### 01. Find the Density of a Cylinder"
   ]
  },
  {
   "cell_type": "markdown",
   "id": "e26f7105-52f3-4bee-930c-b5888868378e",
   "metadata": {
    "tags": []
   },
   "source": [
    "A standard 1 kilogram weight is a cylinder 42.0 mm in height and 40.5 mm in diameter. What is the density of the material?\n",
    "\n",
    "The equation for calculating density is:\n",
    "\n",
    "$$ \\rho = \\frac{m}{V} $$\n",
    "\n",
    "We can also find the volume of a cylinder with:\n",
    "\n",
    "$$\n",
    "V = {\\pi}r^2{h}\n",
    "$$"
   ]
  },
  {
   "cell_type": "code",
   "execution_count": 11,
   "id": "18300b14-02fd-49c9-8683-5e76d1582bec",
   "metadata": {
    "tags": []
   },
   "outputs": [
    {
     "name": "stdout",
     "output_type": "stream",
     "text": [
      "The density is:\n",
      "18482 kg/m^3\n"
     ]
    }
   ],
   "source": [
    "import math\n",
    "\n",
    "mass = 1                # kg\n",
    "height = 42 / 1000      # converted to meters\n",
    "diameter = 40.5 / 1000  # converted to meters\n",
    "radius = diameter / 2\n",
    "\n",
    "volume = math.pi * radius * radius * height\n",
    "\n",
    "density = mass / volume\n",
    "\n",
    "print(\"The density is:\")\n",
    "print(str(math.floor(density)) + \" kg/m^3\")"
   ]
  },
  {
   "cell_type": "markdown",
   "id": "1a257bb1-6228-4166-a263-83bdd18e5e9b",
   "metadata": {},
   "source": [
    "### 02. Find the Density of a Sculpture"
   ]
  },
  {
   "cell_type": "markdown",
   "id": "637efec3-e0f7-4c12-96b9-fb3188840979",
   "metadata": {},
   "source": [
    "An artist creates a solid sculpture made from 5.70 kg of iron. She wishes to create an identical sculpture, using the same mold used to make the original, out of solid silver. What is the mass (in kg) of the silver sculpture? (The density of iron is 7.86 ✕ 10^3 kg/m3, and that of silver is 10.50 ✕ 10^3 kg/m3.)\n",
    "\n",
    "For this we can cross multipy and divide the ratios.\n",
    "\n",
    "$$\n",
    "\\frac{m_{1}}{\\rho_{1}} = \\frac{m_{2}}{\\rho_{2}}\n",
    "$$"
   ]
  },
  {
   "cell_type": "code",
   "execution_count": 4,
   "id": "16c8ff47-67a1-4209-a648-25a3ed7209db",
   "metadata": {
    "tags": []
   },
   "outputs": [
    {
     "name": "stdout",
     "output_type": "stream",
     "text": [
      "The mass of the second sculpture is:\n",
      "7.61 kg\n"
     ]
    }
   ],
   "source": [
    "mass_1 = 5.70\n",
    "density_1 = 7.86E3\n",
    "density_2 = 10.50E3\n",
    "\n",
    "mass_2 = mass_1 * density_2 / density_1\n",
    "\n",
    "print(\"The mass of the second sculpture is:\")\n",
    "print(str(round(mass_2,2)) + \" kg\")"
   ]
  },
  {
   "cell_type": "markdown",
   "id": "759054d6-4787-451b-a579-c5ab1125f475",
   "metadata": {},
   "source": [
    "### 03. SI Units"
   ]
  },
  {
   "cell_type": "markdown",
   "id": "02c095ed-b5f7-4eea-97e2-9b36cb2d7c9c",
   "metadata": {},
   "source": [
    "Newton's law of universal gravitation is represented by:\n",
    "\n",
    "$$\n",
    "F = \\frac{GMm}{r^2}\n",
    "$$\n",
    "\n",
    "where *F* is the magnitude of the gravitational force exerted by one small object on another, *M* and *m* are the masses of the objects, and *r* is a distance. Force has the SI units $kg · m/s^2$. What are the SI units of the proportionality constant *G*?"
   ]
  },
  {
   "cell_type": "markdown",
   "id": "d7012bfc-3689-4aaf-8374-8730ddf2b23e",
   "metadata": {},
   "source": [
    "$$\n",
    "\\frac{kg · m}{s^2} = \\frac{G · kg^2}{m^2}\n",
    "$$"
   ]
  },
  {
   "cell_type": "markdown",
   "id": "fc0a5bdb-64e0-4241-bffd-73d548b22a57",
   "metadata": {},
   "source": [
    "$$\n",
    "\\frac{kg  · m^3}{s^2} = G  · kg^2\n",
    "$$"
   ]
  },
  {
   "cell_type": "markdown",
   "id": "09a0fc98-4c1d-4eb0-977e-504f61c1fd2b",
   "metadata": {},
   "source": [
    "$$\n",
    "\\frac{m^3}{kg  · s^2} = G\n",
    "$$"
   ]
  },
  {
   "cell_type": "markdown",
   "id": "58150e29-6bc3-4530-b13f-ab23211a39c6",
   "metadata": {
    "tags": []
   },
   "source": [
    "### 04. Dimensions"
   ]
  },
  {
   "cell_type": "markdown",
   "id": "645c7e01-2217-4af6-9bc1-9aaae989f6f9",
   "metadata": {},
   "source": [
    "Assume the equation $x = At^3 + Bt$ describes the motion of a particular object, with *x* having the dimension of length and *t* having the dimension of time. Determine the dimensions of the constants *A* and *B*. (Use the following as necessary: *L* and *T*, where *L* is the unit of length and *T* is the unit of time.)"
   ]
  },
  {
   "cell_type": "markdown",
   "id": "1b17de3d-df8a-4aeb-a417-62c5f8ef46ad",
   "metadata": {},
   "source": [
    "Since *x* is *L*, $At^3$ and $Bt$ must also equal *L*."
   ]
  },
  {
   "cell_type": "markdown",
   "id": "94012d60-ac34-4860-b6b3-67142ba5e05b",
   "metadata": {
    "tags": []
   },
   "source": [
    "$$\n",
    "L = AT^3\n",
    "$$\n",
    "\n",
    "$$\n",
    "\\frac{L}{T^3} = A\n",
    "$$\n",
    "\n",
    "$$\n",
    "L = BT\n",
    "$$\n",
    "\n",
    "$$\n",
    "\\frac{L}{T} = B\n",
    "$$"
   ]
  },
  {
   "cell_type": "markdown",
   "id": "07125393-7cba-49b0-a873-a27ebfee4761",
   "metadata": {},
   "source": [
    "### 05. Area"
   ]
  },
  {
   "cell_type": "markdown",
   "id": "63d48178-10e6-4767-b6b5-6c0417eeb159",
   "metadata": {},
   "source": [
    "A rectangular field in a park is 57.0 ft wide and 147 ft long. What is the area of the field in square meters?"
   ]
  },
  {
   "cell_type": "code",
   "execution_count": 4,
   "id": "ea8b02b2-a887-4f39-bf7c-92b3cfdbb17d",
   "metadata": {
    "tags": []
   },
   "outputs": [
    {
     "name": "stdout",
     "output_type": "stream",
     "text": [
      "778 m^2\n"
     ]
    }
   ],
   "source": [
    "import math\n",
    "\n",
    "width = 57 / 3.28    # convert to meters\n",
    "length = 147 / 3.28  # convert to meters\n",
    "\n",
    "area = width * length\n",
    "\n",
    "print(str(math.floor(area)) + \" m^2\")"
   ]
  },
  {
   "cell_type": "code",
   "execution_count": null,
   "id": "cb428289-aeed-4b22-898f-0e5dc572cd15",
   "metadata": {},
   "outputs": [],
   "source": []
  }
 ],
 "metadata": {
  "kernelspec": {
   "display_name": "Python 3 (ipykernel)",
   "language": "python",
   "name": "python3"
  },
  "language_info": {
   "codemirror_mode": {
    "name": "ipython",
    "version": 3
   },
   "file_extension": ".py",
   "mimetype": "text/x-python",
   "name": "python",
   "nbconvert_exporter": "python",
   "pygments_lexer": "ipython3",
   "version": "3.11.5"
  }
 },
 "nbformat": 4,
 "nbformat_minor": 5
}
