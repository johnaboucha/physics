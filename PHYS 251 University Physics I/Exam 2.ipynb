{
 "cells": [
  {
   "cell_type": "markdown",
   "id": "18066a71-66ee-4863-a414-161b942632b6",
   "metadata": {},
   "source": [
    "# Exam 2"
   ]
  },
  {
   "cell_type": "markdown",
   "id": "79bc79a7-ec3e-4bf5-bedd-24a854ac187b",
   "metadata": {},
   "source": [
    "### 01. Weight\n",
    "\n",
    "\n",
    "Suppose you are talking by interplanetary telephone to a friend, who lives on the Moon. He tells you that he has just won a newton of gold in a contest. Excitedly, you tell him that you entered the Earth version of the same contest and also won a newton of gold! Who is richer?"
   ]
  },
  {
   "cell_type": "markdown",
   "id": "2c2b94f6-36dc-4112-ad2c-845c6b5fafac",
   "metadata": {
    "tags": []
   },
   "source": [
    "Use the following force equation,\n",
    "\n",
    "$$\n",
    "F = ma\n",
    "$$\n",
    "\n",
    "If both weigh 1 N, then on the Moon,\n",
    "\n",
    "$$\n",
    "1 = m \\times 1.625\n",
    "$$\n",
    "\n",
    "$$\n",
    "m = \\frac{1}{1.625}\n",
    "$$\n",
    "\n",
    "And on the Earth,\n",
    "\n",
    "$$\n",
    "1 = m \\times 9.8\n",
    "$$\n",
    "\n",
    "$$\n",
    "m = \\frac{1}{9.8}\n",
    "$$\n",
    "\n",
    "The newton of golf obtained on the Moon would have more mass than the newton on Earth, and thus more valuable."
   ]
  },
  {
   "cell_type": "markdown",
   "id": "edd4d543-6828-4df2-b654-dc35e396bc4d",
   "metadata": {
    "tags": []
   },
   "source": [
    "### 02. Normal Force\n",
    "\n",
    "Normal force is a measure of apparent ___?\n",
    "\n",
    "Weight."
   ]
  },
  {
   "cell_type": "markdown",
   "id": "f1560392-3876-4569-962a-a08aa42619d2",
   "metadata": {},
   "source": [
    "### 03. Force Magnitude\n",
    "\n",
    "What is the magnitude of the net force required to accelerate an object of mass 10 kg at a rate of 10 m/s2?\n",
    "\n",
    "Consider the equation,\n",
    "\n",
    "$$\n",
    "F = ma\n",
    "$$\n",
    "\n",
    "$$\n",
    "F = 10 \\times 10\n",
    "$$\n",
    "\n",
    "The force (F) equals 100 Newtons."
   ]
  },
  {
   "cell_type": "markdown",
   "id": "15ea6624-0ff1-4ee9-8901-3c9fc592d34f",
   "metadata": {},
   "source": [
    "### 04. Cage match\n",
    "\n",
    "Which method, pushing down or pulling up, on a horizontal surface makes it easier to move a crate?\n",
    "\n",
    "Pulling up."
   ]
  },
  {
   "cell_type": "markdown",
   "id": "27b4c27e-0b64-4821-87e8-d64727758358",
   "metadata": {},
   "source": [
    "### 05. Space Station\n",
    "\n",
    "A circular space station spins about its axis to simulate gravity in the living quarters located along its periphery. What is the direction of acceleration of a person standing at the periphery?\n",
    "\n",
    "Towards the center."
   ]
  },
  {
   "cell_type": "markdown",
   "id": "64094d3a-7f3d-439b-8d6b-1f78e2219769",
   "metadata": {},
   "source": [
    "### 06. Unit of Time\n",
    "\n",
    "An object is going around in a circular track of radius R m at a constant speed of v m/s. The number of revolutions it will complete in a unit time (T) is...\n",
    "\n",
    "The circumference of a circle,\n",
    "\n",
    "$$\n",
    "c = 2 \\pi r\n",
    "$$\n",
    "\n",
    "The time (seconds) it takes to complete a circle,\n",
    "\n",
    "$$\n",
    "T = \\frac{2 \\pi r}{v}\n",
    "$$\n",
    "\n",
    "The single unit of time (1 second, for example),\n",
    "\n",
    "$$\n",
    "\\frac{1}{T} = \\frac{v}{2 \\pi r}\n",
    "$$"
   ]
  },
  {
   "cell_type": "markdown",
   "id": "562f699a-665c-4bf2-a5bd-b82d77fb04dd",
   "metadata": {},
   "source": [
    "### 07. Airplane!\n",
    "\n",
    "If the jet maintains its speed and flap settings as it banks (i.e., FL = FBL), which of the following is most likely true?\n",
    "\n",
    "The plane moves in circle and loses speed/altitude."
   ]
  },
  {
   "cell_type": "markdown",
   "id": "bb05141d-b6bf-4552-81f7-e8491141a484",
   "metadata": {
    "tags": []
   },
   "source": [
    "### 08. Affirmation\n",
    "\n",
    "Which of the following statement is ALWAYS TRUE?\n",
    "\n",
    "Kinetic energy is preportional to velocity"
   ]
  },
  {
   "cell_type": "markdown",
   "id": "efc19915-3cde-43bb-bf55-e60c07b9c841",
   "metadata": {},
   "source": [
    "### 09. Net Work\n",
    "\n",
    "Net work done by a force is equal to:\n",
    "\n",
    "$$\n",
    "K_{f} - K_{i}\n",
    "$$"
   ]
  },
  {
   "cell_type": "markdown",
   "id": "63ff0287-9f8e-4dc9-b45f-990131ccdd1b",
   "metadata": {
    "tags": []
   },
   "source": [
    "### 10. Gravity\n",
    "\n",
    "Which of the following statement is CORRECT?\n",
    "\n",
    "The force of gravity is conserved."
   ]
  },
  {
   "cell_type": "markdown",
   "id": "288dfa40-fdc2-4518-9e4e-44e3b79125e9",
   "metadata": {},
   "source": [
    "### 11. Adding forces\n",
    "\n",
    "The forces acting on a 10kg ball are (-5i + 10j) and (5i - 10j). Calculate the acceleration of the ball.\n",
    "\n",
    "0i + 0j"
   ]
  },
  {
   "cell_type": "markdown",
   "id": "ccb7f8d5-673c-465a-985c-89e2d2fb8b5c",
   "metadata": {},
   "source": [
    "### 12. Tesla\n",
    "\n",
    "A Tesla car has been observed to reach an acceleration of magnitude 9.6 m/s2. If the mass of the car is 2240 kg, calculate the magnitude of the force (in Newtons) needed to achieve the above acceleration.\n",
    "\n",
    "Again, the simple Newton equation,\n",
    "\n",
    "$$\n",
    "F = ma\n",
    "$$\n",
    "\n",
    "$$\n",
    "F = 2240 \\times 9.6\n",
    "$$\n",
    "\n",
    "The force (N) equals 21.5 kN."
   ]
  },
  {
   "cell_type": "markdown",
   "id": "44cd1768-617c-4b13-9ab1-16ba3f8d612a",
   "metadata": {},
   "source": [
    "### 13. Inclined block\n",
    "\n",
    "A block of mass 50 kg is on a rough, fixed inclined plane, as shown at the bottom. The magnitude of the normal force acting on the block is...\n",
    "\n",
    "Because the block is on an incline, we add a cos() component,\n",
    "\n",
    "$$\n",
    "F = ma \\times cos(\\theta)\n",
    "$$\n",
    "\n",
    "$$\n",
    "F = 50 \\times 9.8 \\times cos(37)\n",
    "$$\n",
    "\n",
    "F = 391 N"
   ]
  },
  {
   "cell_type": "markdown",
   "id": "4f32a325-f9db-45d7-9617-3a3eca35c2f3",
   "metadata": {},
   "source": [
    "### 14. Circular Acceleration\n",
    "\n",
    "A car is moving around a circular path with a constant speed of 20 m/s, and the radius of the circle is 100 m. Calculate the magnitude of the acceleration.\n",
    "\n",
    "Use, the following,\n",
    "\n",
    "$$\n",
    "a_{c} = \\frac{v^2}{r}\n",
    "$$\n",
    "\n",
    "$$\n",
    "a_{c} = \\frac{20^2}{100}\n",
    "$$\n",
    "\n",
    "The magnitude of acceleration is 4 m/s."
   ]
  },
  {
   "cell_type": "markdown",
   "id": "0af96591-dbb1-47d6-896c-470f958864fd",
   "metadata": {},
   "source": [
    "### 15. Static Friction\n",
    "\n",
    "The mass of the car and driver is 10000 kg, and they are traveling at a constant speed of 10 m/s. The radius of curvature of the track is 100 m. The car is at the verge of sliding off the track. Calculate the static friction between the tires and the road.\n",
    "\n",
    "The formula to find static friction,\n",
    "\n",
    "$$\n",
    "\\mu_{s} = \\frac{v^2}{gr}\n",
    "$$\n",
    "\n",
    "$$\n",
    "\\mu_{s} = \\frac{10^2}{9.8 \\times 100}\n",
    "$$\n",
    "\n",
    "The coefficient of static friction equals 0.102."
   ]
  },
  {
   "cell_type": "markdown",
   "id": "f7a7184a-9eaf-43fb-a4c3-6192111797ba",
   "metadata": {},
   "source": [
    "### 16. Speed\n",
    "\n",
    "A student takes her car to a level parking lot and starts driving around in a circle of radius 75 m. At that instant, when the speed of the car is 15 m/s, what is its speed in revolutions per second?\n",
    "\n",
    "Use the equation to find seconds to complete a circle,\n",
    "\n",
    "$$\n",
    "T = \\frac{2 \\pi r}{v}\n",
    "$$\n",
    "\n",
    "T = 31.42 m/s\n",
    "\n",
    "Then, just invert T.\n",
    "\n",
    "$$\n",
    "rev/s = \\frac{1}{T}\n",
    "$$\n",
    "\n",
    "rev/s = 0.03"
   ]
  },
  {
   "cell_type": "markdown",
   "id": "dfe3d88d-4f92-42f9-aa72-928233f99fce",
   "metadata": {},
   "source": [
    "### 17. Fighter Jets\n",
    "\n",
    "A fighter jet traveling at a constant speed is inverted at the top of a circular loop path of radius 1000 m. If the pilot feels as if she is seated on a chair on Earth's surface, calculate the speed of the jet.\n",
    "\n",
    "At the top, the acceleration would be 2 x 9.8 in the upward direction. So,\n",
    "\n",
    "$$\n",
    "19.6 = \\frac{v^2}{r}\n",
    "$$\n",
    "\n",
    "$$\n",
    "v = \\sqrt{19.6 \\times 1000}\n",
    "$$\n",
    "\n",
    "v = 140 m/s"
   ]
  },
  {
   "cell_type": "markdown",
   "id": "f8cdbaab-518e-43f5-b19d-6b7b676f49d8",
   "metadata": {},
   "source": [
    "### 18. Pulley\n",
    "\n",
    "You are to lift a mass of 100 kg vertically at a constant speed, as shown. The pulley is frictionless, and the rope is light. What force do you exert on the rope?\n",
    "\n",
    "The force is the same as tension, and there are two ropes supporting the weight\n",
    "\n",
    "$$\n",
    "T = \\frac{mg}{2}\n",
    "$$\n",
    "\n",
    "$$\n",
    "T = \\frac{100 \\times 9.8}{2}\n",
    "$$\n",
    "\n",
    "T = 490 N"
   ]
  },
  {
   "cell_type": "markdown",
   "id": "d2675e1b-2007-441d-a243-02b22abccd01",
   "metadata": {},
   "source": [
    "### 19. Potential Energy\n",
    "\n",
    "A particle of mass M = 2 kg is moving in 1-D under the influence of a single force derived from the potential,\n",
    "\n",
    "$$\n",
    "U(x) = 6x^3 + 2x^2 + 5\n",
    "$$\n",
    "\n",
    "Calculate the force acting on the particle and its  acceleration at x = 3 m.\n",
    "\n",
    "$$\n",
    "F_{x}(x) = -\\frac{dU}{dx}\n",
    "$$\n",
    "\n",
    "So, take the derivative to find Force and note the sign,\n",
    "\n",
    "$$\n",
    "F(x) = 18x^2 - 4x\n",
    "$$\n",
    "\n",
    "Then plug in 3 and Bob's your uncle,\n",
    "\n",
    "$$\n",
    "F(3) = 18 \\cdot 3^2 - 4 \\cdot 3\n",
    "$$\n",
    "\n",
    "F(3) = 150 N"
   ]
  },
  {
   "cell_type": "markdown",
   "id": "cda28c9b-8c50-4749-8e73-919d0f3fe1d4",
   "metadata": {},
   "source": [
    "### 20. Another block on slope\n",
    "\n",
    "A block of mass 3 kg slides up a distance of 2 m up a slope that makes an angle 20° with the horizontal as shown in the figure at right.  The work done by the weight force on the block is...\n",
    "\n",
    "The work done by the weight force is,\n",
    "\n",
    "$$\n",
    "W_{w} = mgd \\times cos(90 + \\theta)\n",
    "$$\n",
    "\n",
    "$$\n",
    "W_{w} = 3 \\times 9.8 \\times 2 \\times cos(110)\n",
    "$$\n",
    "\n",
    "The work of the weight force is -20 J."
   ]
  },
  {
   "cell_type": "code",
   "execution_count": null,
   "id": "a114f9b2-6f7f-47e6-8298-f52b5fd936eb",
   "metadata": {},
   "outputs": [],
   "source": []
  }
 ],
 "metadata": {
  "kernelspec": {
   "display_name": "Python 3 (ipykernel)",
   "language": "python",
   "name": "python3"
  },
  "language_info": {
   "codemirror_mode": {
    "name": "ipython",
    "version": 3
   },
   "file_extension": ".py",
   "mimetype": "text/x-python",
   "name": "python",
   "nbconvert_exporter": "python",
   "pygments_lexer": "ipython3",
   "version": "3.11.5"
  }
 },
 "nbformat": 4,
 "nbformat_minor": 5
}
