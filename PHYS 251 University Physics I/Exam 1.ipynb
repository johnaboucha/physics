{
 "cells": [
  {
   "cell_type": "markdown",
   "id": "1a8d56ce-4910-4f44-8d8a-5ce499c5af18",
   "metadata": {},
   "source": [
    "# Exam 1"
   ]
  },
  {
   "cell_type": "markdown",
   "id": "ee119b29-83df-4fb6-bf99-6742b1866caf",
   "metadata": {},
   "source": [
    "## 01. Unit and Measurement\n",
    "\n",
    "A proton, which is the nucleus of a hydrogen atom, can be modeled as a sphere with a diameter of 2.4 fm and a mass of 1.67 × 10^-27 kg. Determine the density of the proton.  ( 1 fm = 10^-15 m)\n",
    "\n",
    "The volume of a sphere is:\n",
    "\n",
    "$$\n",
    "volume = \\frac{4}{3}*\\pi*r^3\n",
    "$$\n",
    "\n",
    "The density can be found with:\n",
    "\n",
    "$$\n",
    "\\rho = \\frac{m}{V}\n",
    "$$"
   ]
  },
  {
   "cell_type": "code",
   "execution_count": 56,
   "id": "bb02eda2-9be3-4820-8b70-ef562d9bd51f",
   "metadata": {
    "tags": []
   },
   "outputs": [
    {
     "name": "stdout",
     "output_type": "stream",
     "text": [
      "2.307E+17 kg/m^3\n"
     ]
    }
   ],
   "source": [
    "import math\n",
    "\n",
    "mass = 1.67E-27\n",
    "diameter = 2.4E-15     # fm\n",
    "radius = diameter / 2\n",
    "\n",
    "volume = (4/3) * math.pi * radius ** 3\n",
    "\n",
    "density = mass / volume\n",
    "\n",
    "print(\"{:.3E} kg/m^3\".format(density))"
   ]
  },
  {
   "cell_type": "markdown",
   "id": "f3fe5a6a-6a68-49fa-9bc2-a23370d20307",
   "metadata": {},
   "source": [
    "## 02. Dimensions\n",
    "\n",
    "Write out the dimension for each term in the equation y = (2 m) cos (kx), k = 2m^-1"
   ]
  },
  {
   "cell_type": "code",
   "execution_count": 1,
   "id": "02a40e0a-b525-4dcb-92cd-ef11fd737415",
   "metadata": {
    "tags": []
   },
   "outputs": [],
   "source": [
    "# y = L\n",
    "# k = L\n",
    "# kx = L"
   ]
  },
  {
   "cell_type": "markdown",
   "id": "4da31e56-2d18-4f36-90fa-07d88c2523ee",
   "metadata": {},
   "source": [
    "## 03. Unit Conversion\n",
    "\n",
    "Express 50 mi/h in units of meter per second. (1 mi = 1609 m)"
   ]
  },
  {
   "cell_type": "code",
   "execution_count": 3,
   "id": "897bd7c9-8dd0-4fa7-a606-6848428fc4a1",
   "metadata": {
    "tags": []
   },
   "outputs": [
    {
     "name": "stdout",
     "output_type": "stream",
     "text": [
      "22.35 m/s\n"
     ]
    }
   ],
   "source": [
    "v = 50     # mph\n",
    "v *= 1609  # meters per hour\n",
    "v /= 3600  # meters per second\n",
    "v = round(v,2)\n",
    "\n",
    "print(str(v) + \" m/s\")"
   ]
  },
  {
   "cell_type": "markdown",
   "id": "fb150d3f-69f8-44b7-aaca-9e31e978f100",
   "metadata": {},
   "source": [
    "## 04. SI Units\n",
    "\n",
    "The correct SI units for distance and mass are"
   ]
  },
  {
   "cell_type": "code",
   "execution_count": 4,
   "id": "7dc55d2f-8924-47ff-b820-ba55982e9dfb",
   "metadata": {
    "tags": []
   },
   "outputs": [],
   "source": [
    "# meter and kilogram"
   ]
  },
  {
   "cell_type": "markdown",
   "id": "4f3fb947-89f9-40c1-97bf-fab63081d4f4",
   "metadata": {
    "tags": []
   },
   "source": [
    "## 05. Velocity Vectors\n",
    "\n",
    "Velocity vectors point:"
   ]
  },
  {
   "cell_type": "code",
   "execution_count": 6,
   "id": "9478d49d-9cc6-4a97-9ec1-0fa6b1b24a2d",
   "metadata": {
    "tags": []
   },
   "outputs": [],
   "source": [
    "# anywhere"
   ]
  },
  {
   "cell_type": "markdown",
   "id": "842fc596-818d-4ddd-bce2-f1194cf29d8d",
   "metadata": {},
   "source": [
    "## 06. Finding Velocity\n",
    "\n",
    "Satellite data on one particularly speedy albatross showed it 60 miles east of its roost at 3:00 pm and then, at 3:15 pm, 80 miles east of its roost. What was its velocity?\n",
    "\n",
    "Let's find this with:\n",
    "\n",
    "$$\n",
    "velocity = \\frac{\\Delta x}{t}\n",
    "$$"
   ]
  },
  {
   "cell_type": "code",
   "execution_count": 8,
   "id": "f5006193-7fa9-4752-a0d9-149fe76d822f",
   "metadata": {
    "tags": []
   },
   "outputs": [
    {
     "name": "stdout",
     "output_type": "stream",
     "text": [
      "80.0 mph\n"
     ]
    }
   ],
   "source": [
    "position_1 = 60\n",
    "position_2 = 80\n",
    "p_diff = p2 - p1\n",
    "\n",
    "time = 15 / 60\n",
    "\n",
    "velocity = p_diff / time\n",
    "\n",
    "print(str(velocity) + \" mph\")"
   ]
  },
  {
   "cell_type": "markdown",
   "id": "01e2c9d3-416f-4135-a088-d90ef360060f",
   "metadata": {},
   "source": [
    "## 07. Vector Addition\n",
    "\n",
    "Given vectors P and Q, what is P plus Q?"
   ]
  },
  {
   "cell_type": "code",
   "execution_count": 9,
   "id": "ea5880b8-7371-4c84-81f5-be2350e8a193",
   "metadata": {
    "tags": []
   },
   "outputs": [],
   "source": [
    "# Draw the vectors tip to tail. The resulting vector drawn from the start of P to the tip of Q is the answer (A)."
   ]
  },
  {
   "cell_type": "markdown",
   "id": "a6bc1d0e-86f1-487a-8e88-b5c19e827d37",
   "metadata": {},
   "source": [
    "## 08. Displacement\n",
    "\n",
    "Anna walks 90 m due east and then 50 m due north. What is her displacement from her starting point?"
   ]
  },
  {
   "cell_type": "code",
   "execution_count": 12,
   "id": "eed26e66-dc30-4be4-994e-55e7af423f5c",
   "metadata": {
    "tags": []
   },
   "outputs": [
    {
     "name": "stdout",
     "output_type": "stream",
     "text": [
      "102.96 m\n"
     ]
    }
   ],
   "source": [
    "import math\n",
    "\n",
    "x = 90\n",
    "y = 50\n",
    "\n",
    "d = math.sqrt(90 ** 2 + 50 ** 2)\n",
    "d = round(d, 2)\n",
    "\n",
    "print(str(d) + \" m\")"
   ]
  },
  {
   "cell_type": "markdown",
   "id": "399fedbc-1db0-450b-a76c-61a47add820e",
   "metadata": {},
   "source": [
    "## 09. Average and Instantaneous Velocity\n",
    "\n",
    "When is the average velocity of an object equal to the instantaneous velocity?"
   ]
  },
  {
   "cell_type": "code",
   "execution_count": 13,
   "id": "f13b7888-4a0d-450d-82cb-4efede913571",
   "metadata": {
    "tags": []
   },
   "outputs": [],
   "source": [
    "# when the velocity is constant"
   ]
  },
  {
   "cell_type": "markdown",
   "id": "b7cccea5-2820-4237-8ea1-7dd1c9acfa7f",
   "metadata": {},
   "source": [
    "## 10. Graph Interpretation\n",
    "\n",
    "Here is a position graph of an object: At t = 1.5 s, the object’s velocity is:"
   ]
  },
  {
   "cell_type": "code",
   "execution_count": 14,
   "id": "402a076e-2d0d-4a45-ab15-759105125305",
   "metadata": {
    "tags": []
   },
   "outputs": [],
   "source": [
    "# Review the graph, calculate slope to find velocity. v = 2 m/s"
   ]
  },
  {
   "cell_type": "markdown",
   "id": "91d7f0e5-202e-4e72-be4a-7330d9c42a1f",
   "metadata": {},
   "source": [
    "## 11. Displace Versus Time\n",
    "\n",
    "A car moves along a straight stretch of road. The following graph shows the car’s position as a function of time. At what point (or points) do the displacement is zero."
   ]
  },
  {
   "cell_type": "code",
   "execution_count": 15,
   "id": "9e55e400-eeb9-43ce-9d71-46ae51380599",
   "metadata": {
    "tags": []
   },
   "outputs": [],
   "source": [
    "# The car starts at zero and returns to zero at time D."
   ]
  },
  {
   "cell_type": "markdown",
   "id": "4ec16ad2-f820-43c1-a787-7bc1ec49766c",
   "metadata": {},
   "source": [
    "## 12. Vector Addition\n",
    "\n",
    "A particle has velocity $v_{1}$ as it moves from point 1 to point 2. The acceleration is shown. What is its velocity vector $v_{2}$ as it moves away from point 2?"
   ]
  },
  {
   "cell_type": "code",
   "execution_count": 16,
   "id": "c99ceb84-0fcb-4cc8-9873-92e4ff458ad6",
   "metadata": {
    "tags": []
   },
   "outputs": [],
   "source": [
    "# Add the two vectors together. Answer is (B)."
   ]
  },
  {
   "cell_type": "markdown",
   "id": "dbb83d48-bb61-4192-a769-aaa4c7c19282",
   "metadata": {},
   "source": [
    "## 13. Acceleration Due to Gravity\n",
    "\n",
    "A 10-kg rock and a 20-kg rock are thrown upward with the same initial speed $v_{0}$ and experience no significant air resistance. If the 10-kg rock reaches a maximum height h, what maximum height will the 20-kg ball reach?"
   ]
  },
  {
   "cell_type": "code",
   "execution_count": 17,
   "id": "8b8ff0c0-e0b4-4a7f-bcd8-c8a0a7640648",
   "metadata": {
    "tags": []
   },
   "outputs": [],
   "source": [
    "# The answer is the same for both. Height: h"
   ]
  },
  {
   "cell_type": "markdown",
   "id": "d0c645e7-d675-405a-9b65-42868e6186ad",
   "metadata": {},
   "source": [
    "## 14. Distance Between Points\n",
    "\n",
    "Two points in the xy plane have Cartesian coordinates ( 2.00i, - 4.00j) m and ( -3.00i, 3.00 j) m. Determine the distance between these points."
   ]
  },
  {
   "cell_type": "code",
   "execution_count": 20,
   "id": "e543e397-294d-4fc8-ac32-f9e186e58a6f",
   "metadata": {
    "tags": []
   },
   "outputs": [
    {
     "name": "stdout",
     "output_type": "stream",
     "text": [
      "8.6 m\n"
     ]
    }
   ],
   "source": [
    "import math\n",
    "\n",
    "p_x1 = 2\n",
    "p_y1 = -4\n",
    "\n",
    "p_x2 = -3\n",
    "p_y2 = 3\n",
    "\n",
    "p_x_diff = p_x1 - p_x2\n",
    "p_y_diff = p_y1 - p_y2\n",
    "\n",
    "d = math.sqrt(p_x_diff ** 2 + p_y_diff ** 2)\n",
    "d = round(d, 2)\n",
    "\n",
    "print(str(d) + \" m\")"
   ]
  },
  {
   "cell_type": "markdown",
   "id": "c37ef9b7-4731-4928-bc69-f373f1176841",
   "metadata": {},
   "source": [
    "## 15. Firing a Projectile\n",
    "\n",
    "A projectile is fired in such a way that its horizontal range is equal to three times its maximum height. What is the angle of projectile?"
   ]
  },
  {
   "cell_type": "code",
   "execution_count": 27,
   "id": "7af9a090-8970-4c04-813d-52604e108cb0",
   "metadata": {
    "tags": []
   },
   "outputs": [
    {
     "name": "stdout",
     "output_type": "stream",
     "text": [
      "53.13°\n"
     ]
    }
   ],
   "source": [
    "import math\n",
    "\n",
    "x = 3   # 3 times height\n",
    "d = 90 - math.degrees(math.atan(x/4))\n",
    "d = round(d, 2)\n",
    "\n",
    "print(str(d) + \"°\")"
   ]
  },
  {
   "cell_type": "markdown",
   "id": "6b571b42-0876-4d5f-a453-6fc8b8438b1d",
   "metadata": {},
   "source": [
    "## 16. Calculating Magnitude\n",
    "\n",
    "A 3.00-kg object undergoes an acceleration given by a = ( 2.00 i + 5.00 j ) m/s squared. Find the magnitude of the resultant force."
   ]
  },
  {
   "cell_type": "code",
   "execution_count": 31,
   "id": "abf12278-c792-402f-836f-03ebe7d08ef6",
   "metadata": {
    "tags": []
   },
   "outputs": [
    {
     "name": "stdout",
     "output_type": "stream",
     "text": [
      "16.16 N\n"
     ]
    }
   ],
   "source": [
    "import math\n",
    "\n",
    "x = 2\n",
    "y = 5\n",
    "\n",
    "m = 3  # kilograms\n",
    "\n",
    "# acceleration direction\n",
    "a = math.sqrt(x ** 2 + y ** 2)\n",
    "\n",
    "# f = ma\n",
    "force = m * a\n",
    "force = round(force, 2)\n",
    "\n",
    "print(str(force) + \" N\")"
   ]
  },
  {
   "cell_type": "markdown",
   "id": "5e359b58-6219-4012-bba0-beefcc94da07",
   "metadata": {},
   "source": [
    "## 17. Difference of Magnitude\n",
    "\n",
    "Lisa in her Lamborghini accelerates at ( 3.00 i -2.00 j ) m/s squared, while Jill in her Jaguar accelerates at ( 1.00 i + 3.00 j ) m/s squared. They both start from rest at the origin. After 5.00 s, what is Lisa’s speed with respect to Jill?"
   ]
  },
  {
   "cell_type": "code",
   "execution_count": 33,
   "id": "6e3b5243-ce2b-4427-8caf-1732f5b4f058",
   "metadata": {
    "tags": []
   },
   "outputs": [
    {
     "name": "stdout",
     "output_type": "stream",
     "text": [
      "26.991728188340847\n"
     ]
    }
   ],
   "source": [
    "import math\n",
    "\n",
    "t = 5\n",
    "\n",
    "# Lisa\n",
    "lisa_d = math.sqrt(3 ** 2 + -2 ** 2)\n",
    "lisa_d *= t\n",
    "\n",
    "# Jill\n",
    "jill_d = math.sqrt(1 ** 2 + 3 ** 2)\n",
    "jill_d *= t\n",
    "\n",
    "print(lisa_d+jill_d)"
   ]
  },
  {
   "cell_type": "markdown",
   "id": "24de685b-37b4-42e2-b62c-6ead42b38cbb",
   "metadata": {},
   "source": [
    "## 18. Maximum Height\n",
    "\n",
    "A projectile is shot above the horizontal with an initial speed $ v_{0} = 30 $ m/s and an angle of 53. The velocity at the point of maximum height M is:"
   ]
  },
  {
   "cell_type": "code",
   "execution_count": 38,
   "id": "0c5d9fb3-9ca2-47e1-9c13-7ae2cf3922a1",
   "metadata": {
    "tags": []
   },
   "outputs": [
    {
     "name": "stdout",
     "output_type": "stream",
     "text": [
      "1.21 seconds\n"
     ]
    }
   ],
   "source": [
    "import math\n",
    "\n",
    "y_velocity = 30 * math.sin(53)\n",
    "\n",
    "t = y_velocity / 9.8\n",
    "t = round(t, 2)\n",
    "\n",
    "print(str(t) + \" seconds\")"
   ]
  },
  {
   "cell_type": "markdown",
   "id": "f48e27ec-f460-442f-99cc-701035e1ac70",
   "metadata": {},
   "source": [
    "## 19. Force and Acceleration\n",
    "\n",
    "If the only two forces acting on the 5 kg mass are as shown, its acceleration is:"
   ]
  },
  {
   "cell_type": "code",
   "execution_count": 41,
   "id": "80d9f3ea-df2f-49ef-b21a-5910cc447593",
   "metadata": {
    "tags": []
   },
   "outputs": [
    {
     "name": "stdout",
     "output_type": "stream",
     "text": [
      "6.71 N\n"
     ]
    }
   ],
   "source": [
    "import math\n",
    "\n",
    "f1_i = 22\n",
    "f1_j = 20\n",
    "\n",
    "f2_i = -7\n",
    "f2_j = 10\n",
    "\n",
    "f_x_net = f1_i + f2_i\n",
    "f_y_net = f1_j + f2_j\n",
    "\n",
    "# f = ma\n",
    "f = math.sqrt(f_x_net ** 2 + f_y_net ** 2)\n",
    "f /= 5\n",
    "f = round(f, 2)\n",
    "\n",
    "print(str(f) + \" N\")"
   ]
  },
  {
   "cell_type": "markdown",
   "id": "4f5af168-5d17-4f35-83e0-c79e444e5915",
   "metadata": {},
   "source": [
    "## 20. Calculate Hang Time\n",
    "\n",
    "Object launched horizontally at a velocity of 60 m/s. XB = 210m. Neglect air resistance. What is the time of flight? i.e., how much time does it take for the projectile to travel from O to B?"
   ]
  },
  {
   "cell_type": "code",
   "execution_count": 42,
   "id": "d6d93ddb-a092-4837-bf2d-0ae0ad11017f",
   "metadata": {
    "tags": []
   },
   "outputs": [
    {
     "name": "stdout",
     "output_type": "stream",
     "text": [
      "3.5 seconds\n"
     ]
    }
   ],
   "source": [
    "## O to B takes the same time from O to XB.\n",
    "xb = 210\n",
    "v = 60\n",
    "\n",
    "t = xb / v\n",
    "\n",
    "print(str(t) + \" seconds\")"
   ]
  },
  {
   "cell_type": "code",
   "execution_count": null,
   "id": "ecbe1f27-d42f-47c8-a606-db1ed0490c9a",
   "metadata": {},
   "outputs": [],
   "source": []
  }
 ],
 "metadata": {
  "kernelspec": {
   "display_name": "Python 3 (ipykernel)",
   "language": "python",
   "name": "python3"
  },
  "language_info": {
   "codemirror_mode": {
    "name": "ipython",
    "version": 3
   },
   "file_extension": ".py",
   "mimetype": "text/x-python",
   "name": "python",
   "nbconvert_exporter": "python",
   "pygments_lexer": "ipython3",
   "version": "3.11.5"
  }
 },
 "nbformat": 4,
 "nbformat_minor": 5
}
