{
 "cells": [
  {
   "cell_type": "markdown",
   "id": "5eb03426-2d0c-4367-bdbb-65f68b53c393",
   "metadata": {
    "tags": []
   },
   "source": [
    "# Practice Exam 2"
   ]
  },
  {
   "cell_type": "markdown",
   "id": "5b6fa5df-58ed-4406-b6a5-cc707acf5f2e",
   "metadata": {
    "tags": []
   },
   "source": [
    "#### 01. Scale\n",
    "\n",
    "A scale is used to pull a block up an incline. What is the reading on the scale?\n",
    "\n",
    "$$\n",
    "mgsin(\\theta)\n",
    "$$"
   ]
  },
  {
   "cell_type": "markdown",
   "id": "48e6e91c-adc6-467e-9bca-fe34f1388fec",
   "metadata": {},
   "source": [
    "#### 02. Impending Motion\n",
    "\n",
    "Static friction opposes impending motion = True"
   ]
  },
  {
   "cell_type": "markdown",
   "id": "6265f7b6-b367-47fd-969e-3ada9a7f874f",
   "metadata": {},
   "source": [
    "#### 03. Force of Friction\n",
    "\n",
    "For a vehicle to coast or speed up, the road must exert a force in the foward direction.\n",
    "\n",
    "True"
   ]
  },
  {
   "cell_type": "markdown",
   "id": "7cf2ee82-24b3-4cad-a22c-61d0f9321371",
   "metadata": {
    "tags": []
   },
   "source": [
    "#### 04. Anti-lock brakes\n",
    "\n",
    "An anti-lock breaking system is designed to maintain the magnitude of the force of static friction between the road adn the tires just below $ FSf,_{Max}$\n",
    "\n",
    "True"
   ]
  },
  {
   "cell_type": "markdown",
   "id": "fb0817e9-9738-4e3c-bafe-ce7e8c4d3a37",
   "metadata": {},
   "source": [
    "#### 05. Block on slope\n",
    "\n",
    "A block of mass 20kg sits on an inclined plane. What is the magnitude of the normal force acting on the block?"
   ]
  },
  {
   "cell_type": "code",
   "execution_count": 11,
   "id": "76d99f7b-a7af-431b-a118-1fd116525b0a",
   "metadata": {
    "tags": []
   },
   "outputs": [
    {
     "name": "stdout",
     "output_type": "stream",
     "text": [
      "156 N\n"
     ]
    }
   ],
   "source": [
    "import math\n",
    "\n",
    "mass = 20\n",
    "gravity = 9.8\n",
    "theta = 37\n",
    "\n",
    "force = math.floor(mass * gravity * math.cos(math.radians(37)))\n",
    "\n",
    "print(force, \"N\")"
   ]
  },
  {
   "cell_type": "markdown",
   "id": "74964ddd-1926-4789-9b2e-e00840013505",
   "metadata": {},
   "source": [
    "#### 06. Coefficient of Friction\n",
    "\n",
    "Calculate the force of friction in Problem 5.\n",
    "\n",
    "Need more information (is the block at verge of slipping?)"
   ]
  },
  {
   "cell_type": "markdown",
   "id": "7d10f71e-2a10-4221-a862-e0a6ea725c71",
   "metadata": {},
   "source": [
    "#### 07. Pushing Sled\n",
    "\n",
    "If the acceleration is the same for pushing down on sled as pulling up, then:\n",
    "    \n",
    "$ F_{D} > F_{U}$"
   ]
  },
  {
   "cell_type": "markdown",
   "id": "4779abb0-4c7e-42aa-a99b-bbe8c5daf8e8",
   "metadata": {
    "tags": []
   },
   "source": [
    "#### 08. Up or Down\n",
    "\n",
    "Which method, pushing down or pulling up, makes it easier to move a crate?\n",
    "\n",
    "Pulling up."
   ]
  },
  {
   "cell_type": "markdown",
   "id": "418d7ac3-0c0d-40c5-8d4a-bc2e4de68c25",
   "metadata": {},
   "source": [
    "#### 09. Change of speed\n",
    "\n",
    "A toy car moves around a circular track at constant speed. Its speed doubles by a factor of 2. The acceleration changes by a factor of: 4\n",
    "\n",
    "$$\n",
    "a_{c} = \\frac{v^2}{r}\n",
    "$$\n",
    "\n",
    "$$\n",
    "? = \\frac{(2 \\cdot v)^2}{r}\n",
    "$$\n",
    "\n",
    "$$\n",
    "? = \\frac{2^2 \\cdot v^2}{r}\n",
    "$$\n",
    "\n",
    "$$\n",
    "? = \\frac{4 \\cdot v^2}{r}\n",
    "$$\n",
    "\n",
    "$$\n",
    "4 \\cdot a_{c} = 4 \\cdot \\frac{v^2}{r}\n",
    "$$"
   ]
  },
  {
   "cell_type": "markdown",
   "id": "86d54720-1786-4be0-8af0-f1b65d8f2742",
   "metadata": {},
   "source": [
    "#### 10. Constant speed\n",
    "\n",
    "For an object moving in a circle at constant speed:\n",
    "\n",
    "- A. Acceleration is always parallel to velocity (False)\n",
    "- B. Acceleration is always zero (False)\n",
    "- C. Net force is always perpindicular to velocity (True)\n",
    "- D. Magnitude of the net force is constant (False)"
   ]
  },
  {
   "cell_type": "markdown",
   "id": "9c6fbcbd-81ec-4dd3-8eec-713daae2ccf6",
   "metadata": {},
   "source": [
    "#### 11. Force in a curve\n",
    "\n",
    "A car and rive weigh 15,000 N and are traveling at a constant speed of 20 m/s. The radius of the track is 50 m. What is the magnitude of the net force acting on the system?\n",
    "\n",
    "The equation is:\n",
    "\n",
    "$$\n",
    "F_{a} = m \\cdot \\frac{v^2}{r}\n",
    "$$"
   ]
  },
  {
   "cell_type": "code",
   "execution_count": 15,
   "id": "9e34eadf-b9ca-42fb-95fc-5996b3fe29b2",
   "metadata": {
    "tags": []
   },
   "outputs": [
    {
     "name": "stdout",
     "output_type": "stream",
     "text": [
      "12244 N\n"
     ]
    }
   ],
   "source": [
    "import math\n",
    "\n",
    "mass = 15_000 / 9.8\n",
    "v = 20\n",
    "radius = 50\n",
    "\n",
    "force = math.floor(mass * v**2 / radius)\n",
    "\n",
    "print(force, \"N\")"
   ]
  },
  {
   "cell_type": "markdown",
   "id": "d4484c84-c878-4c63-ae49-8c37489cbc46",
   "metadata": {},
   "source": [
    "#### 12. Road Friction\n",
    "\n",
    "Find the coefficient of friction in Problem 11.\n",
    "\n",
    "We use the equation:\n",
    "\n",
    "$$\n",
    "\\mu_{k} = \\frac{v^2}{gr}\n",
    "$$"
   ]
  },
  {
   "cell_type": "code",
   "execution_count": 20,
   "id": "8c7f8419-f0e5-4f31-bf3a-dde8adba1bc0",
   "metadata": {},
   "outputs": [
    {
     "name": "stdout",
     "output_type": "stream",
     "text": [
      "0.816\n"
     ]
    }
   ],
   "source": [
    "v = 20        # m/s\n",
    "g = 9.8       # gravity\n",
    "radius = 50   # meters\n",
    "\n",
    "fric = v**2 / (g * radius)\n",
    "fric = round(fric, 3)\n",
    "\n",
    "print(fric)"
   ]
  },
  {
   "cell_type": "markdown",
   "id": "e79f9ec7-4fc8-43a4-a7ff-53d0b08e2bf7",
   "metadata": {},
   "source": [
    "#### 13. Loop-de-loops\n",
    "\n",
    "A fighter jet traveling at a constant speed is inverted at the top of a circular loop path of radius 980m. If the pilot feels as if they're seated on a chair on Earth's surface, calculate the speed of jet.\n",
    "\n",
    "We can use the formula,\n",
    "\n",
    "$$\n",
    "2 \\cdot a = \\frac{v^2}{r}\n",
    "$$\n",
    "\n",
    "where the 2 times acceleration indicates the force needed in the upward direction. Here, acceleration is the same as gravity, 9.8 m/s.\n",
    "\n",
    "Then, solve for velocity,\n",
    "\n",
    "$$\n",
    "v = \\sqrt{2 \\cdot a \\cdot r}\n",
    "$$"
   ]
  },
  {
   "cell_type": "code",
   "execution_count": 22,
   "id": "2f12eb68-f78a-4b5a-a41e-b92ca6d26107",
   "metadata": {},
   "outputs": [
    {
     "name": "stdout",
     "output_type": "stream",
     "text": [
      "138.59 m/s\n"
     ]
    }
   ],
   "source": [
    "import math\n",
    "\n",
    "g = 9.8\n",
    "radius = 980\n",
    "velocity = math.sqrt(2 * g * radius)\n",
    "velocity = round(velocity, 2)\n",
    "\n",
    "print(velocity, \"m/s\")"
   ]
  },
  {
   "cell_type": "markdown",
   "id": "4e1dbe19-7cdf-4f04-bed4-d6234ca22768",
   "metadata": {},
   "source": [
    "#### 14. Kinetic Energy\n",
    "\n",
    "Kinetic energy is a scalar quantity = True"
   ]
  },
  {
   "cell_type": "markdown",
   "id": "e9e7fba4-d9c2-4772-9014-146cf0cd31f9",
   "metadata": {},
   "source": [
    "#### 15. Force Components\n",
    "\n",
    "The net force must have a component parallel or anti-parallel to the velocity in order to change the objects kinetic energy.\n",
    "\n",
    "True."
   ]
  },
  {
   "cell_type": "markdown",
   "id": "86077e12-bd61-4b1a-9e08-b3165fad41ec",
   "metadata": {},
   "source": [
    "#### 16. Work\n",
    "\n",
    "Work is done only by the forces that contribute to changes in kinetic energy.\n",
    "\n",
    "True."
   ]
  },
  {
   "cell_type": "markdown",
   "id": "5b7ad8aa-3f98-4244-b69b-1ca663ee1c0d",
   "metadata": {},
   "source": [
    " #### 17. Weight Force\n",
    "\n",
    "A block of mass 3 kg slides 2 meters up a slope that makes a 20-degree angle with horizontal. The work done by the weight force on the block is...\n",
    "\n",
    "For this we use,\n",
    "\n",
    "$$\n",
    "W_{W} = m \\cdot g \\cdot d \\cdot cos(90 + \\theta)\n",
    "$$"
   ]
  },
  {
   "cell_type": "code",
   "execution_count": 42,
   "id": "87027da5-e70f-4585-906a-546be0828056",
   "metadata": {},
   "outputs": [
    {
     "name": "stdout",
     "output_type": "stream",
     "text": [
      "-55.25 J\n"
     ]
    }
   ],
   "source": [
    "import math\n",
    "\n",
    "mass = 3\n",
    "g = -9.8\n",
    "d = 2\n",
    "angle = 20\n",
    "\n",
    "w = mass * g * d * math.sin(math.radians(110))\n",
    "w = round(w, 2)\n",
    "\n",
    "print(w, \"J\")"
   ]
  },
  {
   "cell_type": "markdown",
   "id": "26a24835-57a9-47fd-bad7-0d5fc7519846",
   "metadata": {},
   "source": [
    "#### 18. Correct statements\n",
    "\n",
    "- Work done by a vector, F, is $ F \\cdot d \\cdot cos(\\theta)$\n",
    "- Work done by a vector, F1, with magnitude in the -x direction is negative"
   ]
  },
  {
   "cell_type": "markdown",
   "id": "9dccff9c-c3f6-46c0-9f84-7587607c4388",
   "metadata": {},
   "source": [
    "#### 19. Work done by gravity\n",
    "\n",
    "You are to lift a mass of 30 kg vertically at a constant speed. What is the work done by gravity during a 1.5 meter lift?\n",
    "\n",
    "Again, we can use the equation,\n",
    "\n",
    "$$\n",
    "W_{W} = m \\cdot g \\cdot d \\cdot cos(90 + \\theta)\n",
    "$$"
   ]
  },
  {
   "cell_type": "code",
   "execution_count": 49,
   "id": "639d7ded-b655-4b1a-b08e-933c2a02492b",
   "metadata": {},
   "outputs": [
    {
     "name": "stdout",
     "output_type": "stream",
     "text": [
      "-441.0 J\n"
     ]
    }
   ],
   "source": [
    "import math\n",
    "\n",
    "mass = 30\n",
    "g = 9.8\n",
    "d = 1.5\n",
    "angle = 90     # 90 degrees to horizontal\n",
    "\n",
    "work = mass * g * d * math.cos(math.radians(90 + angle))\n",
    "\n",
    "print(work, \"J\")"
   ]
  },
  {
   "cell_type": "markdown",
   "id": "9e537188-d57e-4786-8851-66acf253d090",
   "metadata": {},
   "source": [
    "#### 20. Reading graphs\n",
    "\n",
    "The force represented by the graph acts on an object that moves along the x-axis. How much work does this force do on the object as it moves from x = 0 and x = 10 m?\n",
    "\n",
    "For this, total work is the area underneath the graph between the points indicated. Note the x-values and where those are negative values."
   ]
  },
  {
   "cell_type": "code",
   "execution_count": 51,
   "id": "c78e32ad-c78b-4d21-93fa-0989db688ae4",
   "metadata": {},
   "outputs": [
    {
     "name": "stdout",
     "output_type": "stream",
     "text": [
      "Work: 21.0 J\n"
     ]
    }
   ],
   "source": [
    "f = 8 * 6 / 2 - 2 * 3 / 2\n",
    "print(\"Work:\", f, \"J\")"
   ]
  },
  {
   "cell_type": "code",
   "execution_count": null,
   "id": "6dbb0eee-54d3-4474-bf88-3321e8ac209e",
   "metadata": {},
   "outputs": [],
   "source": []
  }
 ],
 "metadata": {
  "kernelspec": {
   "display_name": "Python 3 (ipykernel)",
   "language": "python",
   "name": "python3"
  },
  "language_info": {
   "codemirror_mode": {
    "name": "ipython",
    "version": 3
   },
   "file_extension": ".py",
   "mimetype": "text/x-python",
   "name": "python",
   "nbconvert_exporter": "python",
   "pygments_lexer": "ipython3",
   "version": "3.11.5"
  }
 },
 "nbformat": 4,
 "nbformat_minor": 5
}
