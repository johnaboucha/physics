{
 "cells": [
  {
   "cell_type": "markdown",
   "id": "5eb03426-2d0c-4367-bdbb-65f68b53c393",
   "metadata": {
    "tags": []
   },
   "source": [
    "# Practice Exam 2"
   ]
  },
  {
   "cell_type": "markdown",
   "id": "5b6fa5df-58ed-4406-b6a5-cc707acf5f2e",
   "metadata": {
    "tags": []
   },
   "source": [
    "#### 01. Scale\n",
    "\n",
    "A scale is used to pull a block up an incline. What is the reading on the scale?\n",
    "\n",
    "$$\n",
    "mgsin(\\theta)\n",
    "$$"
   ]
  },
  {
   "cell_type": "markdown",
   "id": "48e6e91c-adc6-467e-9bca-fe34f1388fec",
   "metadata": {},
   "source": [
    "#### 02. Impending Motion\n",
    "\n",
    "Static friction opposes impending motion = True"
   ]
  },
  {
   "cell_type": "markdown",
   "id": "6265f7b6-b367-47fd-969e-3ada9a7f874f",
   "metadata": {},
   "source": [
    "#### 03. Force of Friction\n",
    "\n",
    "For a vehicle to coast or speed up, the road must exert a force in the foward direction.\n",
    "\n",
    "True"
   ]
  },
  {
   "cell_type": "markdown",
   "id": "7cf2ee82-24b3-4cad-a22c-61d0f9321371",
   "metadata": {
    "tags": []
   },
   "source": [
    "#### 04. Anti-lock brakes\n",
    "\n",
    "An anti-lock breaking system is designed to maintain the magnitude of the force of static friction between the road adn the tires just below $ FSf,_{Max}$\n",
    "\n",
    "True"
   ]
  },
  {
   "cell_type": "markdown",
   "id": "fb0817e9-9738-4e3c-bafe-ce7e8c4d3a37",
   "metadata": {},
   "source": [
    "#### 05. Block on slope\n",
    "\n",
    "A block of mass 20kg sits on an inclined plane. What is the magnitude of the normal force acting on the block?"
   ]
  },
  {
   "cell_type": "code",
   "execution_count": 11,
   "id": "76d99f7b-a7af-431b-a118-1fd116525b0a",
   "metadata": {
    "tags": []
   },
   "outputs": [
    {
     "name": "stdout",
     "output_type": "stream",
     "text": [
      "156 N\n"
     ]
    }
   ],
   "source": [
    "import math\n",
    "\n",
    "mass = 20\n",
    "gravity = 9.8\n",
    "theta = 37\n",
    "\n",
    "force = math.floor(mass * gravity * math.cos(math.radians(37)))\n",
    "\n",
    "print(force, \"N\")"
   ]
  },
  {
   "cell_type": "markdown",
   "id": "74964ddd-1926-4789-9b2e-e00840013505",
   "metadata": {},
   "source": [
    "#### 06. Coefficient of Friction\n",
    "\n",
    "Calculate the force of friction in Problem 5.\n",
    "\n",
    "Need more information (is the block at verge of slipping?)"
   ]
  },
  {
   "cell_type": "markdown",
   "id": "7d10f71e-2a10-4221-a862-e0a6ea725c71",
   "metadata": {},
   "source": [
    "#### 07. Pushing Sled\n",
    "\n",
    "If the acceleration is the same for pushing down on sled as pulling up, then:\n",
    "    \n",
    "$ F_{D} > F_{U}$"
   ]
  },
  {
   "cell_type": "markdown",
   "id": "4779abb0-4c7e-42aa-a99b-bbe8c5daf8e8",
   "metadata": {
    "tags": []
   },
   "source": [
    "#### 08. Up or Down\n",
    "\n",
    "Which method, pushing down or pulling up, makes it easier to move a crate?\n",
    "\n",
    "Pulling up."
   ]
  },
  {
   "cell_type": "markdown",
   "id": "418d7ac3-0c0d-40c5-8d4a-bc2e4de68c25",
   "metadata": {},
   "source": [
    "#### 09. Change of speed\n",
    "\n",
    "A toy car moves around a circular track at constant speed. Its speed doubles by a factor of 2. The acceleration changes by a factor of: 4\n",
    "\n",
    "$$\n",
    "a_{c} = \\frac{v^2}{r}\n",
    "$$\n",
    "\n",
    "$$\n",
    "? = \\frac{(2 \\cdot v)^2}{r}\n",
    "$$\n",
    "\n",
    "$$\n",
    "? = \\frac{2^2 \\cdot v^2}{r}\n",
    "$$\n",
    "\n",
    "$$\n",
    "? = \\frac{4 \\cdot v^2}{r}\n",
    "$$\n",
    "\n",
    "$$\n",
    "4 \\cdot a_{c} = 4 \\cdot \\frac{v^2}{r}\n",
    "$$"
   ]
  },
  {
   "cell_type": "markdown",
   "id": "86d54720-1786-4be0-8af0-f1b65d8f2742",
   "metadata": {},
   "source": [
    "#### 10. Constant speed\n",
    "\n",
    "For an object moving in a circle at constant speed:\n",
    "\n",
    "- A. Acceleration is always parallel to velocity (False)\n",
    "- B. Acceleration is always zero (False)\n",
    "- C. Net force is always perpindicular to velocity (True)\n",
    "- D. Magnitude of the net force is constant (False)"
   ]
  },
  {
   "cell_type": "markdown",
   "id": "9c6fbcbd-81ec-4dd3-8eec-713daae2ccf6",
   "metadata": {},
   "source": [
    "#### 11. Force in a curve\n",
    "\n",
    "A car and rive weigh 15,000 N and are traveling at a constant speed of 20 m/s. The radius of the track is 50 m. What is the magnitude of the net force acting on the system?\n",
    "\n",
    "The equation is:\n",
    "\n",
    "$$\n",
    "F_{a} = m \\cdot \\frac{v^2}{r}\n",
    "$$"
   ]
  },
  {
   "cell_type": "code",
   "execution_count": 15,
   "id": "9e34eadf-b9ca-42fb-95fc-5996b3fe29b2",
   "metadata": {
    "tags": []
   },
   "outputs": [
    {
     "name": "stdout",
     "output_type": "stream",
     "text": [
      "12244 N\n"
     ]
    }
   ],
   "source": [
    "import math\n",
    "\n",
    "mass = 15_000 / 9.8\n",
    "v = 20\n",
    "radius = 50\n",
    "\n",
    "force = math.floor(mass * v**2 / radius)\n",
    "\n",
    "print(force, \"N\")"
   ]
  },
  {
   "cell_type": "code",
   "execution_count": null,
   "id": "d148a5fb-88bc-4d64-8e47-01f3db41ae98",
   "metadata": {},
   "outputs": [],
   "source": []
  }
 ],
 "metadata": {
  "kernelspec": {
   "display_name": "Python 3 (ipykernel)",
   "language": "python",
   "name": "python3"
  },
  "language_info": {
   "codemirror_mode": {
    "name": "ipython",
    "version": 3
   },
   "file_extension": ".py",
   "mimetype": "text/x-python",
   "name": "python",
   "nbconvert_exporter": "python",
   "pygments_lexer": "ipython3",
   "version": "3.11.5"
  }
 },
 "nbformat": 4,
 "nbformat_minor": 5
}
