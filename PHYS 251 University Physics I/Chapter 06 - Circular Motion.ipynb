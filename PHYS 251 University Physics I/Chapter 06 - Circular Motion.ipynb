{
 "cells": [
  {
   "cell_type": "markdown",
   "id": "234d4fdd-362f-4b29-93c2-d301f7be81a4",
   "metadata": {},
   "source": [
    "# Chapter 06 - Circular Motion"
   ]
  },
  {
   "cell_type": "markdown",
   "id": "2f4b646e-139b-405d-8d02-ed93ab3554b6",
   "metadata": {
    "tags": []
   },
   "source": [
    "## 01. A Slipping Coin\n",
    "\n",
    "A coin placed 29.8 cm from the center of a rotating, horizontal turntable slips when its speed is 49.8 cm/s.\n",
    "\n",
    "(a) What force causes the centripetal acceleration when the coin is stationary relative to the turntable?"
   ]
  },
  {
   "cell_type": "code",
   "execution_count": 40,
   "id": "58625df5-2cf0-4585-9960-92fd648319d5",
   "metadata": {
    "tags": []
   },
   "outputs": [],
   "source": [
    "# static friction"
   ]
  },
  {
   "cell_type": "markdown",
   "id": "ddb630d9-a06a-4dfe-838b-cf3a0ec8315a",
   "metadata": {
    "tags": []
   },
   "source": [
    "(b) What is the coefficient of static friction between coin and turntable?\n",
    "\n",
    "The following formula gives us the maximum velocity.\n",
    "\n",
    "$$\n",
    "v_{max} = \\sqrt{\\mu_{s} \\cdot g \\cdot r}\n",
    "$$\n",
    "\n",
    "And with algebra, we can find mu.\n",
    "\n",
    "$$\n",
    "\\mu_{s} = \\frac{v_{max}^2}{g \\cdot r}\n",
    "$$"
   ]
  },
  {
   "cell_type": "code",
   "execution_count": 48,
   "id": "526a19d6-22c0-4a9b-8598-4d7fe5e6975f",
   "metadata": {
    "tags": []
   },
   "outputs": [
    {
     "name": "stdout",
     "output_type": "stream",
     "text": [
      "0.0849\n"
     ]
    }
   ],
   "source": [
    "# remember to convert to meters and meters per second\n",
    "radius = 0.298    # meters\n",
    "velocity = 0.498     # m/s\n",
    "g = 9.8       # m/s\n",
    "\n",
    "mu = (velocity ** 2) / (radius * g)\n",
    "mu = round(mu, 4)\n",
    "\n",
    "print(mu)"
   ]
  },
  {
   "cell_type": "markdown",
   "id": "7495f720-7a3d-4d02-9b66-b192abdc6e71",
   "metadata": {},
   "source": [
    "## 02. A Breaking Rope\n",
    "\n",
    "(a) A stuntman with a mass of 80.5 kg swings across a pond from a rope that is 12.0 m. At the bottom of the swing the stuntman's speed is 7.60 m/s. The rope's breaking strength is 1,000 N. Will the stuntman make it across the pond without falling in?\n",
    "\n",
    "The tension at the bottom can be found with:\n",
    "\n",
    "$$\n",
    "T_{bot} = mg(\\frac{v_{bot}^2}{Rg} + 1)\n",
    "$$"
   ]
  },
  {
   "cell_type": "code",
   "execution_count": 56,
   "id": "d2d5e974-ba19-43c4-a164-e4878e9cdd94",
   "metadata": {
    "tags": []
   },
   "outputs": [
    {
     "name": "stdout",
     "output_type": "stream",
     "text": [
      "NO. The stuntman does not make it across.\n"
     ]
    }
   ],
   "source": [
    "mass = 80.5           # kilograms\n",
    "radius = 12           # meters\n",
    "v_bottom = 7.6        # m/s\n",
    "rope_strength = 1000  # Newtons\n",
    "g = 9.8               # m/s\n",
    "\n",
    "t_bottom = mass * g * ((v_bottom ** 2 / (radius * g)) + 1)\n",
    "\n",
    "if t_bottom > rope_strength:\n",
    "    print(\"NO. The stuntman does not make it across.\")\n",
    "else:\n",
    "    print(\"YES. The stuntman makes it across.\")"
   ]
  },
  {
   "cell_type": "markdown",
   "id": "8d807061-4989-4abd-b0a3-9698dee9a9d8",
   "metadata": {},
   "source": [
    "#### (b) What If? What is the maximum speed (in m/s) that the stuntman can have at the bottom of the swing on this vine to safely swing across the river?\n",
    "\n",
    "In this case, set $ T_{bot} = 1,000 $ and solve for velocity.\n",
    "\n",
    "$$\n",
    "1,000 = mg(\\frac{v_{bot}^2}{Rg} + 1)\n",
    "$$\n",
    "\n",
    "With algrebra, we get:\n",
    "\n",
    "$$\n",
    "v_{bot} = \\sqrt{\\frac{1,000R}{m} - Rg}\n",
    "$$"
   ]
  },
  {
   "cell_type": "code",
   "execution_count": 57,
   "id": "14392825-d611-40e3-83d6-e73c4efc1b0f",
   "metadata": {
    "tags": []
   },
   "outputs": [
    {
     "name": "stdout",
     "output_type": "stream",
     "text": [
      "5.6097 m/s\n"
     ]
    }
   ],
   "source": [
    "import math\n",
    "\n",
    "mass = 80.5           # kilograms\n",
    "radius = 12           # meters\n",
    "rope_strength = 1000  # Newtons\n",
    "g = 9.8               # m/s\n",
    "\n",
    "v_bottom = math.sqrt( (rope_strength * radius) / mass - radius * g)\n",
    "v_bottom = round(v_bottom, 4)\n",
    "\n",
    "print(str(v_bottom) + \" m/s\")"
   ]
  },
  {
   "cell_type": "markdown",
   "id": "b80824d6-a5ce-4d7b-b39e-2bab01394b15",
   "metadata": {},
   "source": [
    "## 03. Radial Acceleration\n",
    "\n",
    "A hawk flies in a horizontal arc of radius 12.2 m at a constant speed 4.30 m/s.\n",
    "\n",
    "**(a)** Find its centripetal acceleration.\n",
    "\n",
    "Centripetal acceleration is found with the following formula, where *v* is velocity and *r* is radius.\n",
    "\n",
    "$$\n",
    "a_{r} = \\frac{v^2}{r}\n",
    "$$"
   ]
  },
  {
   "cell_type": "code",
   "execution_count": 3,
   "id": "bb24517f-c938-4f75-929f-a36add540707",
   "metadata": {
    "tags": []
   },
   "outputs": [
    {
     "name": "stdout",
     "output_type": "stream",
     "text": [
      "Centripetal acceleration is:\n",
      "1.52 m/s\n"
     ]
    }
   ],
   "source": [
    "velocity = 4.3  # meters/second\n",
    "radius = 12.2   # meters\n",
    "\n",
    "a_r = velocity ** 2 / radius\n",
    "a_r = round(a_r, 2)\n",
    "\n",
    "print(\"Centripetal acceleration is:\")\n",
    "print(str(a_r) + \" m/s\")"
   ]
  },
  {
   "cell_type": "markdown",
   "id": "2e9727f4-c381-4fb6-bd83-1bffa604ef31",
   "metadata": {},
   "source": [
    "**(b)** It continues to fly along the same horizontal arc, but increases its speed at the rate of 1.15 m/s^2. Find the acceleration in this situation at the moment the hawk's speed is 4.30 m/s.\n",
    "\n",
    "Here, tangental acceleration is given (1.15 m/s^2). We find radial acceleration as in part (a). Then use the following to find the magnitude of acceleration:\n",
    "\n",
    "$$\n",
    "a_{mag} = \\sqrt{ a_{t}^2 + a_{r}^2 }\n",
    "$$\n",
    "\n",
    "For direction, we can take the arc tangent of the two acceleration magnitudes.\n",
    "\n",
    "$$\n",
    "direction = \\arctan(\\frac{a_{r}}{a_{t}})\n",
    "$$"
   ]
  },
  {
   "cell_type": "code",
   "execution_count": 20,
   "id": "05b299b4-e575-43e6-923f-c57f6907d6b5",
   "metadata": {
    "tags": []
   },
   "outputs": [
    {
     "name": "stdout",
     "output_type": "stream",
     "text": [
      "Magnitude: 1.9 m/s\n",
      "Direction: 52.809190098737396 degrees\n"
     ]
    }
   ],
   "source": [
    "import math\n",
    "\n",
    "velocity = 4.3   # meters/second\n",
    "radius = 12.2    # meters\n",
    "a_r = velocity ** 2 / radius\n",
    "a_t = 1.15\n",
    "\n",
    "mag = math.sqrt(a_t ** 2 + a_r ** 2)\n",
    "mag = round(mag, 2)\n",
    "\n",
    "direction = math.degrees(math.atan(a_r / a_t))\n",
    "\n",
    "print(\"Magnitude: \" + str(mag) + \" m/s\")\n",
    "print(\"Direction: \" + str(direction) + \" degrees\")"
   ]
  },
  {
   "cell_type": "markdown",
   "id": "30b06572-cee7-441c-9477-3dcf39b6493f",
   "metadata": {},
   "source": [
    "## 04. Elevator Weight\n",
    "\n",
    "A person stands on a scale in an elevator. As the elevator starts, the scale has a constant reading of 582 N. As the elevator later stops, the scale reading is 382 N. Assume the magnitude of the acceleration is the same during starting and stopping.\n",
    "\n",
    "**(a)** Determine the weight of the person.\n",
    "\n",
    "We can average the scale readings to find the persons weight.\n",
    "\n",
    "$$\n",
    "w = \\frac{w_{1}+w_{2}}{2}\n",
    "$$"
   ]
  },
  {
   "cell_type": "code",
   "execution_count": 24,
   "id": "261a925a-db6e-4078-bb49-a9d3596f094f",
   "metadata": {
    "tags": []
   },
   "outputs": [
    {
     "name": "stdout",
     "output_type": "stream",
     "text": [
      "482 N\n"
     ]
    }
   ],
   "source": [
    "w1 = 582\n",
    "w2 = 382\n",
    "weight = (w1 + w2) / 2\n",
    "weight = round(weight)\n",
    "\n",
    "print(str(weight) + \" N\")"
   ]
  },
  {
   "cell_type": "markdown",
   "id": "c8c3bd02-0c59-4dde-bbb3-b504903fc91c",
   "metadata": {},
   "source": [
    "**(b)** Determine the person's mass.\n",
    "\n",
    "In part A, we found the weight, or Force) in N that the person weights. We use the following equation and algebra to find mass (m) in kilograms.\n",
    "\n",
    "$$\n",
    "F = ma\n",
    "$$"
   ]
  },
  {
   "cell_type": "code",
   "execution_count": 31,
   "id": "ef25c8d7-3b87-4000-b31d-23da41fd92e0",
   "metadata": {
    "tags": []
   },
   "outputs": [
    {
     "name": "stdout",
     "output_type": "stream",
     "text": [
      "49.18 kg\n"
     ]
    }
   ],
   "source": [
    "weight = 482  # Newtons\n",
    "acceleration = 9.8  # force of gravity in m/s^2\n",
    "\n",
    "mass = weight / acceleration\n",
    "mass = round(mass, 2)\n",
    "\n",
    "print(str(mass) + \" kg\")"
   ]
  },
  {
   "cell_type": "markdown",
   "id": "1d032410-bf9b-4216-b883-11c985f4fe22",
   "metadata": {},
   "source": [
    "**(c)** Determine the magnitude of acceleration of the elevator.\n",
    "\n",
    "Since we know F when the elevator is rising and we know the mass of the person, we use the following equation again to find the elevator's acceleration.\n",
    "\n",
    "$$\n",
    "F = ma\n",
    "$$"
   ]
  },
  {
   "cell_type": "code",
   "execution_count": 35,
   "id": "313ff60c-fe25-4e26-85db-d28c2faf7f63",
   "metadata": {
    "tags": []
   },
   "outputs": [
    {
     "name": "stdout",
     "output_type": "stream",
     "text": [
      "2.03 m/s^2\n"
     ]
    }
   ],
   "source": [
    "mass = 49.18  # kilograms\n",
    "force = 582 - 482   # Initial force minus person's weight\n",
    "\n",
    "acceleration = force / mass\n",
    "acceleration = round(acceleration, 2)\n",
    "\n",
    "print(str(acceleration), \"m/s^2\")"
   ]
  },
  {
   "cell_type": "markdown",
   "id": "7ab365a0-bcca-4c8a-9117-0c72e897a97d",
   "metadata": {},
   "source": [
    "## 05. Terminal Velocity"
   ]
  },
  {
   "cell_type": "code",
   "execution_count": 49,
   "id": "4725f14c-5a77-4b4f-b962-c4a233b35a44",
   "metadata": {
    "tags": []
   },
   "outputs": [
    {
     "name": "stdout",
     "output_type": "stream",
     "text": [
      "57.3829 m/s\n",
      "167.99985777602038 meters\n"
     ]
    }
   ],
   "source": [
    "import math\n",
    "\n",
    "# baseball\n",
    "radius = 0.03683\n",
    "volume = (4/3) * math.pi * radius ** 3\n",
    "density = 0.145 / volume\n",
    "mass = density * volume  # should be 0.145 kg or 145 grams\n",
    "air_density = 1.2 # kg/m^2\n",
    "D = 0.3\n",
    "g = 9.8 # m/s\n",
    "A = math.pi * radius ** 2\n",
    "\n",
    "v_t = math.sqrt((2 * mass * g) / ( D * air_density * A ))\n",
    "\n",
    "\n",
    "# rubber sphere\n",
    "\n",
    "radius = 0.07    # meters\n",
    "volume = (4/3) * math.pi * radius ** 3\n",
    "density = 1080   # kg/m^3\n",
    "mass = density * volume\n",
    "\n",
    "air_density = 1.2 # kg/m^3\n",
    "D = 0.5\n",
    "g = 9.8 # m/s\n",
    "A = math.pi * radius ** 2\n",
    "\n",
    "v_t = math.sqrt((2 * mass * g) / ( D * air_density * A ))\n",
    "v_t = round(v_t, 4)\n",
    "print(str(v_t) + \" m/s\")\n",
    "\n",
    "# vf = vi + 2g(y)\n",
    "y =  (v_t ** 2) / (2 * g)\n",
    "print(str(y) + \" meters\")"
   ]
  },
  {
   "cell_type": "code",
   "execution_count": null,
   "id": "d25bced9-9733-437d-9851-e08ecb576bf7",
   "metadata": {},
   "outputs": [],
   "source": []
  }
 ],
 "metadata": {
  "kernelspec": {
   "display_name": "Python 3 (ipykernel)",
   "language": "python",
   "name": "python3"
  },
  "language_info": {
   "codemirror_mode": {
    "name": "ipython",
    "version": 3
   },
   "file_extension": ".py",
   "mimetype": "text/x-python",
   "name": "python",
   "nbconvert_exporter": "python",
   "pygments_lexer": "ipython3",
   "version": "3.11.5"
  }
 },
 "nbformat": 4,
 "nbformat_minor": 5
}
