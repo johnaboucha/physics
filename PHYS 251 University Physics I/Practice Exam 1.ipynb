{
 "cells": [
  {
   "cell_type": "markdown",
   "id": "c46a7c2f-130d-4ede-a4e5-ac44294e777f",
   "metadata": {},
   "source": [
    "# Practice Exam 1"
   ]
  },
  {
   "cell_type": "markdown",
   "id": "9b004d0e-e37d-4174-8d42-b6af8975ad48",
   "metadata": {},
   "source": [
    "## 01. Units and Measure\n",
    "\n",
    "Earth can be modeled as a sphere with a diameter of 12,756.2 km and a mass of $ 5.97219*10^{24} $ kilograms. Determine the density of the Earth.\n",
    "\n",
    "The volume of a sphere is:\n",
    "\n",
    "$$\n",
    "volume = \\frac{4}{3}*\\pi*r^3\n",
    "$$\n",
    "\n",
    "The density can be found with:\n",
    "\n",
    "$$\n",
    "\\rho = \\frac{m}{V}\n",
    "$$"
   ]
  },
  {
   "cell_type": "code",
   "execution_count": 7,
   "id": "5ec65993-81e9-448b-819d-a4abdb4157c7",
   "metadata": {
    "tags": []
   },
   "outputs": [
    {
     "name": "stdout",
     "output_type": "stream",
     "text": [
      "5495 kg/m^3\n"
     ]
    }
   ],
   "source": [
    "import math\n",
    "\n",
    "d = 12756.2  # km\n",
    "d *= 1000    # convert to meters\n",
    "r = d/2      # calculate radius\n",
    "m = 5.97219E24\n",
    "\n",
    "volume = (4/3)*math.pi*r**3\n",
    "density = math.floor(m / volume)\n",
    "\n",
    "print(str(density) + \" kg/m^3\")"
   ]
  },
  {
   "cell_type": "markdown",
   "id": "c3bdeebd-e5fa-46ef-8562-1a76d74fe2d4",
   "metadata": {},
   "source": [
    "## 02. Dimensions\n",
    "\n",
    "Write out the dimensions for each term in the equation, $ v_{f} = v_{i} + ax $"
   ]
  },
  {
   "cell_type": "code",
   "execution_count": 8,
   "id": "c2b7a197-42f9-43a6-be70-6b20b8284ce2",
   "metadata": {
    "tags": []
   },
   "outputs": [],
   "source": [
    "# Velocity is L/T\n",
    "# ax are considered non-dimensions\n",
    "# So, final answer must be L/T"
   ]
  },
  {
   "cell_type": "markdown",
   "id": "a79c15ba-bdfb-4627-aa21-5b38905e3054",
   "metadata": {},
   "source": [
    "## 03. Unit Conversion\n",
    "\n",
    "Express 1000 g/cm^3 in kg/m^3.\n",
    "\n",
    "$$\n",
    "1000\\text{ } g/cm^3 = 1\\text{ } kg/cm^3\n",
    "$$\n",
    "\n",
    "$$\n",
    "1\\text{ } kg/cm^3 * 100 * 100 * 100 = 1000000\\text{ } kg/m^3\n",
    "$$"
   ]
  },
  {
   "cell_type": "code",
   "execution_count": 10,
   "id": "02dff809-38c6-408d-a8e5-0b6c1bee3e2a",
   "metadata": {
    "tags": []
   },
   "outputs": [],
   "source": [
    "# answer that the WebAssign wants is 1.0 kg/m^3\n",
    "# probably a typo in the backend"
   ]
  },
  {
   "cell_type": "markdown",
   "id": "9d320104-5eca-4b5f-b87d-fe69a8b40e16",
   "metadata": {},
   "source": [
    "## 04. Acceleration Vectors\n",
    "\n",
    "Acceleration vectors point:\n",
    "\n",
    "anywhere"
   ]
  },
  {
   "cell_type": "markdown",
   "id": "27b39cb4-7679-48f2-8950-671fe7eae796",
   "metadata": {},
   "source": [
    "## 05. Position Versus Velocity\n",
    "\n",
    "When do objects 1 and 2 have the same velocity?"
   ]
  },
  {
   "cell_type": "code",
   "execution_count": 11,
   "id": "22305dd4-a0af-4ef2-9225-caebaf535ac0",
   "metadata": {
    "tags": []
   },
   "outputs": [],
   "source": [
    "# refer to the graph\n",
    "\n",
    "# the slopes of position graphs are equal at some instant before time t_0"
   ]
  },
  {
   "cell_type": "markdown",
   "id": "cb5ef8bb-6b3c-4e95-ba81-4a2a14afe8e5",
   "metadata": {},
   "source": [
    "## 06. Vector Components\n",
    "\n",
    "What are the x and y-components of this vector?"
   ]
  },
  {
   "cell_type": "code",
   "execution_count": 12,
   "id": "cc82d6a3-01e9-477c-adf4-1c6eebec9b5d",
   "metadata": {
    "tags": []
   },
   "outputs": [],
   "source": [
    "# Look at the diagram\n",
    "# x-direction = 2 and y-direction = 3\n",
    "# so\n",
    "# 2i + 3j"
   ]
  },
  {
   "cell_type": "markdown",
   "id": "ad2395fa-4ce9-43a4-b931-c26300a64edd",
   "metadata": {},
   "source": [
    "## 07. Passenger on a Train\n",
    "\n",
    "A train is moving due west at a constant speed. A passenger notes that it takes 10 minutes to travel 12km. How long will it take the train to travel 60km?\n",
    "\n",
    "There are several different ways to solve this. One way is:\n",
    "\n",
    "$$\n",
    "\\frac{12\\text{ }km}{10\\text{ }minutes} = 1.2\\text{ }km/minute\n",
    "$$\n",
    "\n",
    "Then,\n",
    "\n",
    "$$\n",
    "\\frac{60\\text{ }km}{1.2\\text{ }km/minute} = 50\\text{ }minutes\n",
    "$$"
   ]
  },
  {
   "cell_type": "markdown",
   "id": "11b5c119-86a9-4664-8dfe-4f96404210a4",
   "metadata": {},
   "source": [
    " ## 08. Position-Versus-Time Graph\n",
    "    \n",
    "The slope at a point on a position-versus-time graph of an object is:"
   ]
  },
  {
   "cell_type": "code",
   "execution_count": 13,
   "id": "bb7416a1-3579-4e82-8f47-f71147c7573d",
   "metadata": {
    "tags": []
   },
   "outputs": [],
   "source": [
    "# The object's velocity at that point"
   ]
  },
  {
   "cell_type": "markdown",
   "id": "07480698-84dc-4779-b033-22913ab6c3d1",
   "metadata": {},
   "source": [
    "## 09. Graph Interpretation\n",
    "\n",
    "Here is the velocity graph of an object that is at the origin (x = 0m) at t = 0s. At t = 4.0s, the object's position is:"
   ]
  },
  {
   "cell_type": "code",
   "execution_count": 14,
   "id": "481ac451-cbec-464f-8f36-03f5ab475e99",
   "metadata": {
    "tags": []
   },
   "outputs": [],
   "source": [
    "# Just count the squares underneath the graph\n",
    "# each square represents 2 meters\n",
    "# 2 * 6 squares = 12 meters"
   ]
  },
  {
   "cell_type": "markdown",
   "id": "5cefa391-2adb-44ef-a0e8-621bf6f57817",
   "metadata": {},
   "source": [
    "## 10. Direction of Acceleration\n",
    "\n",
    "The motion diagram shows a particle that is slowing down. The sign of the acceleration $ a_{x} $ is:"
   ]
  },
  {
   "cell_type": "code",
   "execution_count": 15,
   "id": "106d829f-fd7c-4375-b567-ade4ca9b8f11",
   "metadata": {
    "tags": []
   },
   "outputs": [],
   "source": [
    "# Acceleration points in the positive direction.\n",
    "# Thus, acceleration is positive."
   ]
  },
  {
   "cell_type": "markdown",
   "id": "8ad83605-9d54-41c6-b27d-9e5f7aaccc5e",
   "metadata": {},
   "source": [
    "## 11. Takeoff Acceleration\n",
    "\n",
    "A fully loaded Boeing 747 with all engines at full thrust accelerates at 2.6 m/s^2. Its minimum takeoff speed is 70 m/s. How much time will the plane take to reach its takeoff speed?\n",
    "\n",
    "This can be calculated with the first Kinematic equation:\n",
    "\n",
    "$$\n",
    "v_{f} = v_{i} + at\n",
    "$$"
   ]
  },
  {
   "cell_type": "code",
   "execution_count": 18,
   "id": "9a2ae835-4f5a-464d-b6fb-47745bf58437",
   "metadata": {
    "tags": []
   },
   "outputs": [
    {
     "name": "stdout",
     "output_type": "stream",
     "text": [
      "26.9 seconds\n"
     ]
    }
   ],
   "source": [
    "#\n",
    "a = 2.6    # m/s^2\n",
    "v_f = 70   # m/s\n",
    "v_i = 0\n",
    "\n",
    "t = (v_f - v_i) / a    # solve for t\n",
    "t = round(t, 1)        # round to one decimal place\n",
    "\n",
    "print(str(t)+\" seconds\")"
   ]
  },
  {
   "cell_type": "markdown",
   "id": "12873f30-b30f-4141-8ca7-e43b5d0bf48f",
   "metadata": {
    "tags": []
   },
   "source": [
    "## 12. Acceleration Due to Gravity\n",
    "\n",
    "A heavy red ball is released from rest 2.0 m above a flat, horizontal surface. At the same time, a yellow ball with the same mass is fired horizontally at 3.0 m/s. What ball hits the ground first?\n",
    "\n",
    "Take a look at the Kinematic equations. Mass is not relevant. So: both hit at the same time."
   ]
  },
  {
   "cell_type": "markdown",
   "id": "81ef185e-f5f3-423b-a57a-ea6df2b85b7a",
   "metadata": {},
   "source": [
    "## 13. Another Gravity Problem\n",
    "\n",
    "A 100 gram ball rolls of a table and lands 2.0 meters from the base of the table. A 200 gram ball rolls off the same table with the same speed. It lands at a distance of:\n",
    "\n",
    "It's the same. 2.0 m."
   ]
  },
  {
   "cell_type": "markdown",
   "id": "536661a8-d3b1-4e54-b424-d89d1a7270b6",
   "metadata": {},
   "source": [
    "## 14. Hang Time\n",
    "\n",
    "Projectiles 1 and 2 are launched over level ground with the same speed but at different angles. Which hits the ground first. Ignore air resistance.\n",
    "\n",
    "The second one does. It doesn't reach the same height as projectile 1. It's hang time is less. It hits the ground first."
   ]
  },
  {
   "cell_type": "markdown",
   "id": "85c2834d-4af6-469e-a112-4f40ec7f6649",
   "metadata": {},
   "source": [
    "## 15. Force and Acceleration\n",
    "\n",
    "A constant force causes an object to accelerate at 4 m/s^2. What is the acceleration of an object with twice the mass that experiences the same force?\n",
    "\n",
    "Consider the Force equation:\n",
    "\n",
    "$$\n",
    "F = ma\n",
    "$$\n",
    "\n",
    "We can insert a couple values:\n",
    "\n",
    "F = 1kg * 4 m/s^2 = 4 kg * m/s^2\n",
    "\n",
    "Doubling mass gives us:\n",
    "\n",
    "4 kg * m/s^2 = 2kg * a\n",
    "\n",
    "a = 2 m/s^2"
   ]
  },
  {
   "cell_type": "markdown",
   "id": "283082ee-63e4-4929-96d3-9f1c220f68f0",
   "metadata": {},
   "source": [
    "## 16. Dimensions\n",
    "\n",
    "The most fundamental dimensions are:\n",
    "    \n",
    "M, L, T"
   ]
  },
  {
   "cell_type": "markdown",
   "id": "25181094-ac68-4596-afbe-6539eb0b0bbf",
   "metadata": {},
   "source": [
    "## 17. Unit Vectors\n",
    "\n",
    "A vector of magnitude 3m as a unit vector of:\n",
    "    \n",
    "1m"
   ]
  },
  {
   "cell_type": "markdown",
   "id": "483ce8cc-e2d1-4ecb-a348-256786a7e36e",
   "metadata": {},
   "source": [
    "## 18. Position into Velocity\n",
    "\n",
    "The position of an object moving along the x-axis at time t is given by: $ x = 3t^2 - t^3 $ meters. What is the velocity of this object at 3s?\n",
    "\n",
    "Take the derivative of the equation to get velocity:\n",
    "\n",
    "$$\n",
    "v(t) = 6t - 3t^2\n",
    "$$\n",
    "\n",
    "$$\n",
    "v(3) = 6(3) - 3(3)^2\n",
    "$$\n",
    "\n",
    "$$\n",
    "v(3) = -9\n",
    "$$\n",
    "\n",
    "Since the object only moves along x-axis, our answer is: -9i m/s"
   ]
  },
  {
   "cell_type": "markdown",
   "id": "720e8ff5-63af-4df0-b631-2e394f1a00d0",
   "metadata": {},
   "source": [
    "## 19. Distance Traveled\n",
    "\n",
    "The velocity of an object moving along the x-axis is given by:\n",
    "\n",
    "$$\n",
    "v(t) = \\frac{dx}{dt}i = (3t^2 - 10)i\\text{ }m/s\n",
    "$$\n",
    "\n",
    "What distance does the object travel between t = 3s and t = 6s?\n",
    "\n",
    "Take the anti-derivative to find position:\n",
    "\n",
    "$$\n",
    "p(t) = t^3 - 10t\n",
    "$$"
   ]
  },
  {
   "cell_type": "code",
   "execution_count": 21,
   "id": "eb7c7a91-97fa-41ef-988e-566cfffabfc8",
   "metadata": {
    "tags": []
   },
   "outputs": [
    {
     "name": "stdout",
     "output_type": "stream",
     "text": [
      "159 m\n"
     ]
    }
   ],
   "source": [
    "# Let's write a function to calculate position\n",
    "def get_distance(t):\n",
    "    return t**3 - 10*t\n",
    "\n",
    "d1 = get_distance(3)     # position at t = 3\n",
    "d2 = get_distance(6)     # position at t = 6\n",
    "diff_between = d2 - d1\n",
    "\n",
    "print(str(diff_between) + \" m\")"
   ]
  },
  {
   "cell_type": "markdown",
   "id": "96e58c4b-0c77-40af-9b4e-b5be30ed605e",
   "metadata": {},
   "source": [
    "## 20. Time to Fall\n",
    "\n",
    "An object is launched horizontally at 60 m/s. How much time does it take for the projectile to travel from O to B if $X_{B}$ is 210m away?"
   ]
  },
  {
   "cell_type": "code",
   "execution_count": 23,
   "id": "fe72f482-2b93-4234-987d-4dd73adb1913",
   "metadata": {
    "tags": []
   },
   "outputs": [
    {
     "name": "stdout",
     "output_type": "stream",
     "text": [
      "3.5 s\n"
     ]
    }
   ],
   "source": [
    "# Review the diagram.\n",
    "# The time is the same that it takes the object to move from O to XB, since velocity is constant.\n",
    "print(str(210/60) + \" s\")"
   ]
  },
  {
   "cell_type": "code",
   "execution_count": null,
   "id": "d8337824-34f3-414c-b380-e07b851e8d83",
   "metadata": {},
   "outputs": [],
   "source": []
  }
 ],
 "metadata": {
  "kernelspec": {
   "display_name": "Python 3 (ipykernel)",
   "language": "python",
   "name": "python3"
  },
  "language_info": {
   "codemirror_mode": {
    "name": "ipython",
    "version": 3
   },
   "file_extension": ".py",
   "mimetype": "text/x-python",
   "name": "python",
   "nbconvert_exporter": "python",
   "pygments_lexer": "ipython3",
   "version": "3.11.5"
  }
 },
 "nbformat": 4,
 "nbformat_minor": 5
}
