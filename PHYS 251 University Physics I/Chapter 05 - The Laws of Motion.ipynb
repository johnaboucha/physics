{
 "cells": [
  {
   "cell_type": "markdown",
   "id": "411df5e0-7eb5-4745-a81b-e78fda09b492",
   "metadata": {},
   "source": [
    "# Chapter 05 - The Laws of Motion"
   ]
  },
  {
   "cell_type": "markdown",
   "id": "433f7ebd-6084-4623-ad62-6250924fa3ba",
   "metadata": {},
   "source": [
    "## 01. Determine Tension\n",
    "\n",
    "A certain orthodontist uses a wire brace to align a patient's crooked tooth as in the figure below. The tension in the wire is adjusted to have a magnitude of 17.6 N. Find the magnitude of the net force exerted by the wire on the crooked tooth.\n",
    "\n",
    "Forces in the -x and x-directions cancel each other out.\n",
    "\n",
    "Tension in the y-direction can be found with the following formula. \n",
    "\n",
    "$$\n",
    "T_{y} = T \\cdot sin(\\theta)\n",
    "$$\n",
    "\n",
    "But because there are two qual forces being applied, we can double the force.\n",
    "\n",
    "$$\n",
    "T_{y} = T \\cdot sin(\\theta) \\cdot 2\n",
    "$$"
   ]
  },
  {
   "cell_type": "code",
   "execution_count": 10,
   "id": "05a7874b-2353-40d5-b923-4e5774e578ba",
   "metadata": {
    "tags": []
   },
   "outputs": [
    {
     "name": "stdout",
     "output_type": "stream",
     "text": [
      "8.52 N\n"
     ]
    }
   ],
   "source": [
    "import math\n",
    "\n",
    "t = 17.6      # Newtons\n",
    "angle = 14    # degrees\n",
    "\n",
    "y_tension = t * math.sin(math.radians(angle)) * 2\n",
    "y_tension = round(y_tension, 2)\n",
    "\n",
    "\n",
    "print(str(y_tension) + \" N\")"
   ]
  },
  {
   "cell_type": "markdown",
   "id": "57516ab3-9555-436b-99cd-d0b56666f2e7",
   "metadata": {
    "tags": []
   },
   "source": [
    "## 02. Force at a Constant Speed\n",
    "\n",
    "A 900 kg vehicle is traveling at a constant speed of 1.66 m/s due north. What is the total force (in N) on the vehicle?"
   ]
  },
  {
   "cell_type": "code",
   "execution_count": 12,
   "id": "6dbea06b-86cb-4c1c-94d0-7475e889c574",
   "metadata": {
    "tags": []
   },
   "outputs": [],
   "source": [
    "# The answer is 0. Because there is no acceleration, there is zero force being applied to the vehicle."
   ]
  },
  {
   "cell_type": "markdown",
   "id": "5f58bf0b-169b-44e4-ba28-ea2a842fb909",
   "metadata": {},
   "source": [
    "## 03. The Force Equation\n",
    "\n",
    "A woman has a weight of 127 lb. Calculate (1) her weight in Newtons and (2) her weight in kilograms.\n",
    "\n",
    "The calculations can be found with the following equation, where F is in Newtons, m is in kilograms, and a is the acceleration of gravity (9.8 m/s).\n",
    "\n",
    "$$\n",
    "F = ma\n",
    "$$"
   ]
  },
  {
   "cell_type": "code",
   "execution_count": 15,
   "id": "6af30023-ac22-45d3-97f4-0f7a4306e71f",
   "metadata": {
    "tags": []
   },
   "outputs": [
    {
     "name": "stdout",
     "output_type": "stream",
     "text": [
      "564.44 N\n",
      "57.6 kg\n"
     ]
    }
   ],
   "source": [
    "mass_lbs = 127\n",
    "mass_kg = mass_lbs / 2.205\n",
    "mass_newtons = mass_kg * 9.8\n",
    "\n",
    "mass_kg = round(mass_kg, 2)\n",
    "mass_newtons = round(mass_newtons, 2)\n",
    "\n",
    "print(str(mass_newtons) + \" N\")\n",
    "print(str(mass_kg) + \" kg\")"
   ]
  },
  {
   "cell_type": "markdown",
   "id": "b8a68dfc-e95a-40bf-99cb-fcf4f4cb13bd",
   "metadata": {},
   "source": [
    "## 04. The Brick and Rubber Cushion Problem\n",
    "\n",
    "A brick of mass M has been placed on a rubber cushion of mass m. Together they are sliding to the right at constant velocity on an ice-covered parking lot.\n",
    "\n",
    "Identify each force acting on the brick.\n",
    "\n",
    "Identify each force acting on the cushion."
   ]
  },
  {
   "cell_type": "code",
   "execution_count": 16,
   "id": "e46d7da4-35ac-460c-8b6d-10fa96ca0ad0",
   "metadata": {
    "tags": []
   },
   "outputs": [],
   "source": [
    "# brick\n",
    "# - there is the W (mass * g) pulling down and the Normal force upward\n",
    "\n",
    "# cushion\n",
    "# - there is the weight of the cusion, W (mass * g), and the force, F, of the brick pushing down.\n",
    "# - there is also the sum of those two as a normal force, F, pushing upward"
   ]
  },
  {
   "cell_type": "markdown",
   "id": "ec58ed43-6c8f-4dc0-a677-34a42d75fa4a",
   "metadata": {},
   "source": [
    "## 05. Stopping Distance\n",
    "\n",
    "A man is driving his SUV with speed 54.0 mi/h on a horizontal stretch of road.\n",
    "\n",
    "(a) When the road is wet, the coefficient of static friction between the road and the tires is 0.103. Find the minimum stopping distance (in m).\n",
    "\n",
    "The following equation works here.\n",
    "\n",
    "$$\n",
    "\\mu_{k} = \\frac{v_{xi}^2}{2 \\cdot gx_{f}}\n",
    "$$"
   ]
  },
  {
   "cell_type": "code",
   "execution_count": 28,
   "id": "c9c2e7bc-5d55-41c8-a6dd-e77252a257e0",
   "metadata": {
    "tags": []
   },
   "outputs": [
    {
     "name": "stdout",
     "output_type": "stream",
     "text": [
      "288.66 m\n"
     ]
    }
   ],
   "source": [
    "# let's define a function\n",
    "def get_stopping_distance(velocity, mu):\n",
    "    velocity = velocity * 1.60934 * 1000 / 3600    # convert mph to m/s\n",
    "\n",
    "    distance = (velocity ** 2) / (2 * 9.8 * mu)\n",
    "    distance = round(distance, 2)\n",
    "\n",
    "    return distance\n",
    "\n",
    "\n",
    "print(get_stopping_distance(54, 0.103), \"m\")"
   ]
  },
  {
   "cell_type": "markdown",
   "id": "e6467cfd-0ccd-4918-9c51-7a5de03bda68",
   "metadata": {},
   "source": [
    "(b) When the road is dry, 𝜇s = 0.605. Find the minimum stopping distance (in m)."
   ]
  },
  {
   "cell_type": "code",
   "execution_count": 29,
   "id": "b0f585d1-92d7-4dfc-bc1d-7058d11ca8fc",
   "metadata": {
    "tags": []
   },
   "outputs": [
    {
     "name": "stdout",
     "output_type": "stream",
     "text": [
      "49.14 m\n"
     ]
    }
   ],
   "source": [
    "print(get_stopping_distance(54, 0.605), \"m\")"
   ]
  },
  {
   "cell_type": "code",
   "execution_count": null,
   "id": "f6363e7b-12df-403c-b364-330cc285a3df",
   "metadata": {},
   "outputs": [],
   "source": []
  }
 ],
 "metadata": {
  "kernelspec": {
   "display_name": "Python 3 (ipykernel)",
   "language": "python",
   "name": "python3"
  },
  "language_info": {
   "codemirror_mode": {
    "name": "ipython",
    "version": 3
   },
   "file_extension": ".py",
   "mimetype": "text/x-python",
   "name": "python",
   "nbconvert_exporter": "python",
   "pygments_lexer": "ipython3",
   "version": "3.11.5"
  }
 },
 "nbformat": 4,
 "nbformat_minor": 5
}
