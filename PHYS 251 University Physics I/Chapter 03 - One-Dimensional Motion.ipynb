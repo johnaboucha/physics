{
 "cells": [
  {
   "cell_type": "markdown",
   "id": "15d0f809-9cb1-45b5-a5e3-44c1aacf554f",
   "metadata": {},
   "source": [
    "# Chapter 03 - One-Dimensional Motion"
   ]
  },
  {
   "cell_type": "markdown",
   "id": "2ef5d847-a61e-494a-916d-998e6d9e2c1f",
   "metadata": {},
   "source": [
    "## 01. Distance over Velocity\n",
    "\n",
    "A person walks first at a constant speed of 5.30 m/s along a straight line from point A to point B and then back along the line from B to A at a constant speed of 2.70 m/s."
   ]
  },
  {
   "cell_type": "code",
   "execution_count": 1,
   "id": "c409514d-120b-47bf-9855-cda1c1d71c24",
   "metadata": {
    "tags": []
   },
   "outputs": [
    {
     "name": "stdout",
     "output_type": "stream",
     "text": [
      "Average speed: 3.58 m/s\n",
      "Average velocity: 0 m/s\n"
     ]
    }
   ],
   "source": [
    "# (a) What is her average speed over the entire trip?\n",
    "\n",
    "speed_1 = 5.3\n",
    "distance = 5.3              # We can just assume some distance, it doesn't really matter in this problem\n",
    "time_1 = distance / speed_1\n",
    "\n",
    "speed_2 = 2.7\n",
    "time_2 =  distance / speed_2\n",
    "\n",
    "avg_velocity = round(distance * 2 / (time_1 + time_2), 2)\n",
    "\n",
    "print(\"Average speed: \" + str(avg_velocity) + \" m/s\")\n",
    "\n",
    "# (b) What is her average velocity over the entire trip?\n",
    "\n",
    "v = 0   # because displacement is zero\n",
    "\n",
    "print(\"Average velocity: \" + str(v) + \" m/s\")"
   ]
  },
  {
   "cell_type": "markdown",
   "id": "229f7ae9-95cc-4612-9f77-fce00de7432e",
   "metadata": {},
   "source": [
    "## 02. Finding Displacement\n",
    "\n",
    "A particle moves according to the equation $x = 8t^2$, where *x* is in meters and *t* is in seconds."
   ]
  },
  {
   "cell_type": "code",
   "execution_count": 11,
   "id": "4e6c6c6c-c425-427e-b4ca-8bdfd30c4b5a",
   "metadata": {},
   "outputs": [
    {
     "name": "stdout",
     "output_type": "stream",
     "text": [
      "(a): 38.4 m/s\n",
      "(b): 32.8 m/s\n"
     ]
    }
   ],
   "source": [
    "# (a) Find the average velocity for the time interval from 1.85 s to 2.95 s.\n",
    "\n",
    "t1 = 1.85\n",
    "t2 = 2.95\n",
    "\n",
    "numerator = (8 * t2**2) - (8 * t1**2)      # the difference in x-position\n",
    "denominator = t2 - t1                      # the difference in time\n",
    "avg_velocity = round(numerator / denominator, 2)  # divide and we get average velocity\n",
    "\n",
    "print(\"(a): \" + str(avg_velocity) + \" m/s\")\n",
    "\n",
    "# (b) Find the average velocity for the time interval from 1.85 s to 2.25 s.\n",
    "\n",
    "t1 = 1.85\n",
    "t2 = 2.25\n",
    "\n",
    "numerator = (8 * t2**2) - (8 * t1**2)\n",
    "denominator = t2 - t1\n",
    "avg_velocity = round(numerator / denominator, 2)\n",
    "\n",
    "print(\"(b): \" + str(avg_velocity) + \" m/s\")"
   ]
  },
  {
   "cell_type": "markdown",
   "id": "213a9a44-7eae-4c08-b4b6-f1ffbddfe020",
   "metadata": {},
   "source": [
    "## 03. Instantaneous Velocity\n",
    "\n",
    "Find the instantaneous velocity of the particle described in the figure below at the following times."
   ]
  },
  {
   "cell_type": "code",
   "execution_count": 12,
   "id": "6c73a2d7-f6b2-43e0-ad0d-2d1864ba7e6d",
   "metadata": {
    "tags": []
   },
   "outputs": [],
   "source": [
    "# Just inspect the graph and calculate the slope at the specified times.\n",
    "# Be careful to note the graph's units"
   ]
  },
  {
   "cell_type": "markdown",
   "id": "70cb764b-7629-45ca-bc7b-76c23466a97f",
   "metadata": {},
   "source": [
    "## 04. Position, Velocity, and Acceleration\n",
    "\n",
    "A particle moves along the x-axis according to the equation $x = 2.08 + 3.07t − 1.00t^2$, where *x* is in meters and *t* is in seconds."
   ]
  },
  {
   "cell_type": "code",
   "execution_count": 17,
   "id": "cd0ec084-6947-4534-abc9-e52bd0d8252c",
   "metadata": {
    "tags": []
   },
   "outputs": [
    {
     "name": "stdout",
     "output_type": "stream",
     "text": [
      "2.84 m\n",
      "-2.53 m/s\n",
      "-2 m/s/s\n"
     ]
    }
   ],
   "source": [
    "# (a) Find the position of the particle at t = 2.80 s.\n",
    "\n",
    "# just plug and play\n",
    "t1 = 2.8\n",
    "a = round(2.08 + 3.07*t1-1*t1**2, 2)\n",
    "print(str(a)+\" m\")\n",
    "\n",
    "# (b) Find its velocity at t = 2.80 s.\n",
    "\n",
    "# take 1st derivative: v = 3.07 - 2t\n",
    "t2 = 2.8\n",
    "b = round(3.07 - 2*t2, 2)\n",
    "print(str(b)+\" m/s\")\n",
    "\n",
    "# (c) Find its acceleration at t = 2.80 s.\n",
    "# take 2nd derivative : a = -2\n",
    "t3 = 2.8\n",
    "c = -2\n",
    "print(str(c)+\" m/s/s\")"
   ]
  },
  {
   "cell_type": "code",
   "execution_count": null,
   "id": "663c923d-4957-47af-8d68-bb8a470e2844",
   "metadata": {},
   "outputs": [],
   "source": []
  }
 ],
 "metadata": {
  "kernelspec": {
   "display_name": "Python 3 (ipykernel)",
   "language": "python",
   "name": "python3"
  },
  "language_info": {
   "codemirror_mode": {
    "name": "ipython",
    "version": 3
   },
   "file_extension": ".py",
   "mimetype": "text/x-python",
   "name": "python",
   "nbconvert_exporter": "python",
   "pygments_lexer": "ipython3",
   "version": "3.11.5"
  }
 },
 "nbformat": 4,
 "nbformat_minor": 5
}
