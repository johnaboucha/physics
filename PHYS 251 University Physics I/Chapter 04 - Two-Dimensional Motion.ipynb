{
 "cells": [
  {
   "cell_type": "markdown",
   "id": "0db0cd87-33b4-4762-b4f2-83c76da87a0f",
   "metadata": {},
   "source": [
    "# Chapter 04 - Two-Dimensional Motion"
   ]
  },
  {
   "cell_type": "markdown",
   "id": "3760eebc-c538-4567-8c14-be797c936613",
   "metadata": {},
   "source": [
    "## 01. Falcon Ground Speed\n",
    "\n",
    "A falcon dives toward the ground with a constant velocity of 5.00 m/s at 50.5° below the horizontal. The Sun is directly overhead and casts a shadow of the falcon directly below it. What is the speed (in m/s) of its shadow on level ground?\n",
    "\n",
    "This can be solved with the following equation:\n",
    "\n",
    "$$\n",
    "x = velocity * cos(angle)\n",
    "$$"
   ]
  },
  {
   "cell_type": "code",
   "execution_count": 2,
   "id": "69434ac4-c073-4672-823d-1bb8b278b40d",
   "metadata": {
    "tags": []
   },
   "outputs": [
    {
     "name": "stdout",
     "output_type": "stream",
     "text": [
      "3.18 m/s\n"
     ]
    }
   ],
   "source": [
    "import math\n",
    "\n",
    "v = 5\n",
    "a = 50.5\n",
    "\n",
    "x = round(v * math.cos(math.radians(a)), 2)\n",
    "print(str(x) + \" m/s\")"
   ]
  },
  {
   "cell_type": "markdown",
   "id": "e095028f-e513-41ca-bf50-4e132abaa5c6",
   "metadata": {},
   "source": [
    "# 02. Position, Velocity, Acceleration\n",
    "\n",
    "A particle initially located at the origin has an acceleration of a = 1.00 ĵ m/s^2 and an initial velocity of v = 8.00 î m/s."
   ]
  },
  {
   "cell_type": "code",
   "execution_count": 12,
   "id": "e703f196-c60e-4111-9032-b17335d78ea0",
   "metadata": {
    "tags": []
   },
   "outputs": [
    {
     "name": "stdout",
     "output_type": "stream",
     "text": [
      "a: 8t i + 0.5t^2 j\n",
      "\n",
      "b: 8 i + 1t j\n",
      "\n",
      "c:\n",
      "x = 24m\n",
      "y = 4.5m\n",
      "\n",
      "\n",
      "d: 8.54 m/s\n"
     ]
    }
   ],
   "source": [
    "# Start with acceleration and just take the anti-derivative for each i and j-component. Then, fill in the blanks.\n",
    "\n",
    "# a = 0  i + 1      j\n",
    "# v = 8  i + 1t     j\n",
    "# p = 8t i + 0.5t^2 j\n",
    "\n",
    "# (a) Find the vector position of the particle at any time t (where t is measured in seconds).\n",
    "print(\"a: 8t i + 0.5t^2 j\\n\")\n",
    "\n",
    "# (b) Find the velocity of the particle at any time t.\n",
    "print(\"b: 8 i + 1t j\\n\")\n",
    "\n",
    "# (c) Find the coordinates of the particle at t = 3.00 s.\n",
    "t = 3\n",
    "x = 8*t\n",
    "y = 0.5*t**2\n",
    "\n",
    "print(\"c:\")\n",
    "print(\"x = \" + str(x) + \"m\")\n",
    "print(\"y = \" + str(y) + \"m\")\n",
    "print(\"\\n\")\n",
    "\n",
    "# (d) Find the speed of the particle at t = 3.00 s.\n",
    "t = 3\n",
    "v_x = 8\n",
    "v_y = 1*t\n",
    "\n",
    "speed = round(math.sqrt(v_x**2 + v_y**2), 2)\n",
    "\n",
    "print(\"d: \" + str(speed) + \" m/s\")"
   ]
  },
  {
   "cell_type": "markdown",
   "id": "5963d226-c8dd-4668-9fce-3abf712ff994",
   "metadata": {},
   "source": [
    "## 03. Jumping on an Alien World\n",
    "\n",
    "A human expedition lands on an alien planet. One of the explorers is able to jump a maximum distance of 14.0 m with an initial speed of 2.20 m/s. Find the gravitational acceleration on the surface of the alien planet. Assume the planet has a negligible atmosphere. (Enter the magnitude in m/s^2.)\n",
    "\n",
    "This can be solved with the following equation:\n",
    "\n",
    "$$\n",
    "g = \\frac{v^2}{distance}\n",
    "$$"
   ]
  },
  {
   "cell_type": "code",
   "execution_count": 16,
   "id": "2abf076d-586a-43ae-be2a-fdb2814fb60c",
   "metadata": {
    "tags": []
   },
   "outputs": [
    {
     "name": "stdout",
     "output_type": "stream",
     "text": [
      "0.35 m/s^2\n"
     ]
    }
   ],
   "source": [
    "v = 2.2\n",
    "d = 14\n",
    "g = round(v**2 / d, 2)\n",
    "print(str(g) + \" m/s^2\")"
   ]
  },
  {
   "cell_type": "markdown",
   "id": "2552929f-7255-4b25-a4c8-4ab6f122425f",
   "metadata": {},
   "source": [
    "## 04. A Train Slowing Down\n",
    "\n",
    "A train slows down as it rounds a sharp horizontal turn, going from 88.0 km/h to 52.0 km/h in the 16.0 s that it takes to round the bend. The radius of the curve is 130 m. Compute the acceleration at the moment the train speed reaches 52.0 km/h. Assume the train continues to slow down at this time at the same rate.\n",
    "\n",
    "First, convert km/h to m/s by multiplying original values by:\n",
    "\n",
    "$$\n",
    "velocity = km/h * \\frac{1000\\text{ } meters}{3600 \\text{ } seconds}\n",
    "$$\n",
    "\n",
    "Next, find tangential acceleration:\n",
    "\n",
    "$$\n",
    "a_{t} = \\frac{v_{f} - v_{i}}{t}\n",
    "$$\n",
    "\n",
    "Then, find radial acceleration:\n",
    "\n",
    "$$\n",
    "a_{r} = \\frac{v^2}{r}\n",
    "$$\n",
    "\n",
    "Use Pythagoreom Theorom to get the magnitude:\n",
    "\n",
    "$$\n",
    "magnitude = \\sqrt{a_{t}^2 + a_{r}^2}\n",
    "$$\n",
    "\n",
    "Finally, calculate the direc tion:\n",
    "\n",
    "$$\n",
    "direction = \\arctan(\\frac{|a_{t}|}{a_{r}})\n",
    "$$"
   ]
  },
  {
   "cell_type": "code",
   "execution_count": 36,
   "id": "877167f0-84d3-46c3-b46a-c468213ce9eb",
   "metadata": {
    "tags": []
   },
   "outputs": [
    {
     "name": "stdout",
     "output_type": "stream",
     "text": [
      "Magnitude: 1.72 m/s^2\n",
      "Direction: 21.28° backward (behind the radial line pointing inward)\n"
     ]
    }
   ],
   "source": [
    "import math\n",
    "\n",
    "v_1 = 88   # km/h\n",
    "v_2 = 52   # km/h\n",
    "t = 16\n",
    "r = 130\n",
    "\n",
    "v_1 = v_1 * 1000 / 3600  # convert to m/s\n",
    "v_2 = v_2 * 1000 / 3600  # convert to m/s\n",
    "\n",
    "a_tan = (v_2 - v_1) / t  # calculate tangential acceleration\n",
    "a_rad = v_2**2 / r       # calculate radial acceleration\n",
    "\n",
    "mag = round(math.sqrt(a_tan**2 + a_rad**2), 2)  # calculate magnitude of acceleration\n",
    "direction = round(math.degrees(math.atan(abs(a_tan) / a_rad)), 2)\n",
    "\n",
    "print(\"Magnitude: \" + str(mag) + \" m/s^2\")\n",
    "print(\"Direction: \" + str(direction) + \"° backward (behind the radial line pointing inward)\")"
   ]
  },
  {
   "cell_type": "markdown",
   "id": "5c2f5d40-4596-4ab8-b125-2e734be355eb",
   "metadata": {},
   "source": [
    "## 05. Relative Speed\n",
    "\n",
    "The pilot of an airplane notes that the compass indicates a heading due west. The airplane's speed relative to the air is 200 km/h. The air is moving in a wind at 35.0 km/h toward the north. Find the velocity of the airplane relative to the ground."
   ]
  },
  {
   "cell_type": "code",
   "execution_count": 31,
   "id": "65446b97-f560-4d45-a751-cf8fea2e4fbd",
   "metadata": {
    "tags": []
   },
   "outputs": [
    {
     "name": "stdout",
     "output_type": "stream",
     "text": [
      "Magnitude: 203.04 km/h\n",
      "Direction: 9.93° north of west\n"
     ]
    }
   ],
   "source": [
    "# Use Pythagoreon Theorom and Trigonometry to solve\n",
    "\n",
    "x = 200\n",
    "y = 35\n",
    "\n",
    "mag = round(math.sqrt(x**2 + y**2), 2)\n",
    "direction = round(math.degrees(math.atan(y/x)), 2)\n",
    "\n",
    "print(\"Magnitude: \" + str(mag) + \" km/h\")\n",
    "print(\"Direction: \" + str(direction) + \"° north of west\")"
   ]
  },
  {
   "cell_type": "code",
   "execution_count": null,
   "id": "f8b21e64-6514-4ba0-a6e2-08182a5ac4a6",
   "metadata": {},
   "outputs": [],
   "source": []
  }
 ],
 "metadata": {
  "kernelspec": {
   "display_name": "Python 3 (ipykernel)",
   "language": "python",
   "name": "python3"
  },
  "language_info": {
   "codemirror_mode": {
    "name": "ipython",
    "version": 3
   },
   "file_extension": ".py",
   "mimetype": "text/x-python",
   "name": "python",
   "nbconvert_exporter": "python",
   "pygments_lexer": "ipython3",
   "version": "3.11.5"
  }
 },
 "nbformat": 4,
 "nbformat_minor": 5
}
