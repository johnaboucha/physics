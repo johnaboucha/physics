{
 "cells": [
  {
   "cell_type": "markdown",
   "id": "48e0b742-8cc1-4c16-93ff-ae2f4b6ee119",
   "metadata": {
    "tags": []
   },
   "source": [
    "# Chapter 07 - Energy of a System"
   ]
  },
  {
   "cell_type": "markdown",
   "id": "856db08a-94da-48b8-86f8-2803823c3348",
   "metadata": {},
   "source": [
    "## 01. Work of Gravity\n",
    "\n",
    "A raindrop of mass 3.03  10^-5 kg falls vertically at constant speed under the influence of gravity and air resistance. Model the drop as a particle.\n",
    "\n",
    "(a) As it falls 130 m, what is the work done on the raindrop by the gravitational force?"
   ]
  },
  {
   "cell_type": "code",
   "execution_count": 5,
   "id": "c084a4b1-ece8-4401-bf44-2d76fdee4aaa",
   "metadata": {
    "tags": []
   },
   "outputs": [
    {
     "name": "stdout",
     "output_type": "stream",
     "text": [
      "0.0386 J\n"
     ]
    }
   ],
   "source": [
    "mass = 3.03E-5\n",
    "y = 130   # meters\n",
    "g = 9.8\n",
    "\n",
    "w = mass * g * y\n",
    "w = round(w, 4)\n",
    "\n",
    "print(w, \"J\")"
   ]
  },
  {
   "cell_type": "markdown",
   "id": "a5e9310f-fa90-481d-b5f0-46c44bb57a17",
   "metadata": {},
   "source": [
    "(b) What is the work done on the raindrop by air resistance?"
   ]
  },
  {
   "cell_type": "code",
   "execution_count": 6,
   "id": "a0d7b571-2477-49c1-b06b-7424d8c3385f",
   "metadata": {
    "tags": []
   },
   "outputs": [
    {
     "name": "stdout",
     "output_type": "stream",
     "text": [
      "-0.0386 J\n"
     ]
    }
   ],
   "source": [
    "air_resistance = -w\n",
    "\n",
    "print(air_resistance, \"J\")"
   ]
  },
  {
   "cell_type": "markdown",
   "id": "6256d7c0-f3d3-418d-a022-0478e1fc799b",
   "metadata": {
    "tags": []
   },
   "source": [
    "## 02. Vector Operations\n",
    "\n",
    "For vector A = 5î + ĵ − 5k, B = -5î + 2ĵ + 3k, and C = 3ĵ − 5k, Find C dot (A - B)."
   ]
  },
  {
   "cell_type": "code",
   "execution_count": 26,
   "id": "8cd29710-2a36-4404-8e0c-7a0186bfb412",
   "metadata": {
    "tags": []
   },
   "outputs": [
    {
     "name": "stdout",
     "output_type": "stream",
     "text": [
      "37\n"
     ]
    }
   ],
   "source": [
    "# Let's make a class and define functions for our vector operations\n",
    "\n",
    "class Vector:\n",
    "    def __init__(self, i=0, j=0, k=0):\n",
    "        self.i = i\n",
    "        self.j = j\n",
    "        self.k = k\n",
    "\n",
    "def add_vectors(A, B):\n",
    "    i = A.i + B.i\n",
    "    j = A.j + B.j\n",
    "    k = A.k + B.k\n",
    "    return Vector(i=i, j=j, k=k)\n",
    "\n",
    "def subtract_vectors(A, B):\n",
    "    i = A.i - B.i\n",
    "    j = A.j - B.j\n",
    "    k = A.k - B.k\n",
    "    return Vector(i=i, j=j, k=k)\n",
    "\n",
    "def dot_product(A, B):\n",
    "    i = A.i * B.i\n",
    "    j = A.j * B.j\n",
    "    k = A.k * B.k\n",
    "    return i+j+k\n",
    "        \n",
    "A = Vector(i=5, j=1, k=-5)\n",
    "B = Vector(i=-5, j=2, k=3)\n",
    "C = Vector(i=0, j=3, k=-5)\n",
    "\n",
    "A_B = subtract_vectors(A, B)\n",
    "C_A_B = dot_product(C, A_B)\n",
    "\n",
    "print(C_A_B)"
   ]
  },
  {
   "cell_type": "markdown",
   "id": "1987e210-2351-4dbd-a35b-dc508fc75aa4",
   "metadata": {},
   "source": [
    "## 03. Reading Charts\n",
    "\n",
    "The force acting on a particle varies as shown in the figure in the homework. Find the work done by the force on the particle as it moves across the following distances.\n",
    "\n",
    "The Force is calculated by counting the squares, or area, under the plot. Or by using the equation for area of a triangle:\n",
    "\n",
    "$$\n",
    "A = \\frac{1}{2}bh\n",
    "$$"
   ]
  },
  {
   "cell_type": "markdown",
   "id": "6f9de496-337a-43b2-a133-12e098575280",
   "metadata": {},
   "source": [
    "(a) from x = 0 m to x = 12.00 m"
   ]
  },
  {
   "cell_type": "code",
   "execution_count": 27,
   "id": "e6f23f9b-e830-4193-bc4f-f18144cce65c",
   "metadata": {
    "tags": []
   },
   "outputs": [
    {
     "name": "stdout",
     "output_type": "stream",
     "text": [
      "36.0 J\n"
     ]
    }
   ],
   "source": [
    "f = (1/2) * 12 * 6\n",
    "print(f, \"J\")"
   ]
  },
  {
   "cell_type": "markdown",
   "id": "9b46cf40-1337-4b70-a3fd-f305a5f8a7dd",
   "metadata": {},
   "source": [
    "(b) from x = 12.00 m to x = 18.00 m"
   ]
  },
  {
   "cell_type": "code",
   "execution_count": 28,
   "id": "4a145cfe-6e2b-4389-8cb5-65f55f256d72",
   "metadata": {
    "tags": []
   },
   "outputs": [
    {
     "name": "stdout",
     "output_type": "stream",
     "text": [
      "-9.0 J\n"
     ]
    }
   ],
   "source": [
    "f = (1/2) * 6 * -3\n",
    "print(f, \"J\")"
   ]
  },
  {
   "cell_type": "markdown",
   "id": "7e80f1ac-cc62-482c-83b6-afcb4e8bf8a3",
   "metadata": {},
   "source": [
    "(c) from x = 0 m to x = 18.00 m"
   ]
  },
  {
   "cell_type": "code",
   "execution_count": 30,
   "id": "038d2aa9-b074-4c65-bd58-393a9babb93f",
   "metadata": {
    "tags": []
   },
   "outputs": [
    {
     "name": "stdout",
     "output_type": "stream",
     "text": [
      "27.0 J\n"
     ]
    }
   ],
   "source": [
    "f = ( (1/2) * 12 * 6 ) + ( (1/2) * 6 * -3 )\n",
    "print(f, \"J\")"
   ]
  },
  {
   "cell_type": "markdown",
   "id": "d71a1e97-3190-4df2-a9fc-bf804020ec0c",
   "metadata": {},
   "source": [
    "## 04. Kinetic Energy\n",
    "\n",
    "(a) A ball with a mass of 3.80 kg is moving with velocity (6.20î − 1.20ĵ) m/s\n",
    "\n",
    "The kinetic energy equation is:\n",
    "\n",
    "$$\n",
    "K = \\frac{1}{2}mv^2\n",
    "$$"
   ]
  },
  {
   "cell_type": "code",
   "execution_count": 32,
   "id": "b4cda6e5-f745-4a87-bffa-a3d5a9894ff6",
   "metadata": {
    "tags": []
   },
   "outputs": [
    {
     "name": "stdout",
     "output_type": "stream",
     "text": [
      "75.772 J\n"
     ]
    }
   ],
   "source": [
    "mass = 3.8\n",
    "v = Vector(i=6.20, j=-1.2)\n",
    "v_2 = dot_product(v,v)      # our function from problem #2\n",
    "\n",
    "k = (1/2) * mass * v_2\n",
    "\n",
    "print(k, \"J\")"
   ]
  },
  {
   "cell_type": "markdown",
   "id": "9ac6dd8b-440c-4257-82dd-19a24b710cc6",
   "metadata": {},
   "source": [
    "(b) Find the net work (in J) on the ball if its velocity changes to (8.00î + 4.00ĵ) m/s.\n",
    "\n",
    "For this, we find the final Kinetic energy and subtract it from the initial Kinetic energy.\n",
    "\n",
    "$$\n",
    "W = K_{f} - K_{i}\n",
    "$$"
   ]
  },
  {
   "cell_type": "code",
   "execution_count": 33,
   "id": "17062abe-9475-466a-a2da-8dddc1c5ef2c",
   "metadata": {
    "tags": []
   },
   "outputs": [
    {
     "name": "stdout",
     "output_type": "stream",
     "text": [
      "76.228 J\n"
     ]
    }
   ],
   "source": [
    "mass = 3.8\n",
    "v1 = Vector(i=6.20, j=-1.2)\n",
    "v1_2 = dot_product(v1,v1)\n",
    "k1 = (1/2) * mass * v1_2\n",
    "\n",
    "v2 = Vector(i=8, j=4)\n",
    "v2_2 = dot_product(v2,v2)\n",
    "k2 = (1/2) * mass * v2_2\n",
    "\n",
    "w = k2 - k1\n",
    "\n",
    "print(w, \"J\")"
   ]
  },
  {
   "cell_type": "markdown",
   "id": "bc77e119-1b19-4b44-b206-bafdc740841b",
   "metadata": {},
   "source": [
    "## 05. Gravitational Potential Energy\n",
    "\n",
    "A 420-N child is in a swing that is attached to a pair of ropes 1.90 m long. Find the gravitational potential energy of the child–Earth system relative to the child's lowest position at the following times:\n",
    "\n",
    "(a) when the ropes are horizontal\n",
    "\n",
    "We can solve this with the following equation:\n",
    "\n",
    "$$\n",
    "U_{g} = mgy\n",
    "$$\n",
    "\n",
    "where m is mass, g is the gravitational constant, and y is the height above the ground. Notice that mg is the same as ma. Recalling the force equation, F = ma, we already know F, it's 420 N."
   ]
  },
  {
   "cell_type": "code",
   "execution_count": 47,
   "id": "c314c315-e4e7-49cc-9d7c-a96ccae313c3",
   "metadata": {
    "tags": []
   },
   "outputs": [
    {
     "name": "stdout",
     "output_type": "stream",
     "text": [
      "798.0 J\n"
     ]
    }
   ],
   "source": [
    "weight = 420    # Newtons\n",
    "y = 1.9         # meters\n",
    "\n",
    "Ug = weight * y\n",
    "print(Ug, \"J\")"
   ]
  },
  {
   "cell_type": "markdown",
   "id": "7cd4c54c-b13b-4dd9-b174-ec1c05ae036c",
   "metadata": {},
   "source": [
    "(b) when the ropes make a 27.0° angle with the vertical"
   ]
  },
  {
   "cell_type": "code",
   "execution_count": 48,
   "id": "5b4cd1a2-00b1-4a6f-9d6f-87168ff398e5",
   "metadata": {
    "tags": []
   },
   "outputs": [
    {
     "name": "stdout",
     "output_type": "stream",
     "text": [
      "86.98 J\n"
     ]
    }
   ],
   "source": [
    "import math\n",
    "\n",
    "weight = 420    # Newtons\n",
    "y = 1.9         # meters\n",
    "\n",
    "Ug = weight * y * (1 - math.cos(math.radians(27)))\n",
    "Ug = round(Ug, 2)\n",
    "\n",
    "print(Ug, \"J\")"
   ]
  },
  {
   "cell_type": "markdown",
   "id": "503fe5d5-463c-472c-8344-715df43295e7",
   "metadata": {},
   "source": [
    "(c) when the child is at the bottom of the circular arc"
   ]
  },
  {
   "cell_type": "code",
   "execution_count": 43,
   "id": "b3043f8b-5ee8-46b5-812e-bd19c945af84",
   "metadata": {
    "tags": []
   },
   "outputs": [
    {
     "name": "stdout",
     "output_type": "stream",
     "text": [
      "0 J\n"
     ]
    }
   ],
   "source": [
    "# there is no gravitational potential at the bottom\n",
    "print(\"0 J\")"
   ]
  },
  {
   "cell_type": "code",
   "execution_count": null,
   "id": "bdb5fece-2b58-4237-bd96-d505dcc117b1",
   "metadata": {},
   "outputs": [],
   "source": []
  }
 ],
 "metadata": {
  "kernelspec": {
   "display_name": "Python 3 (ipykernel)",
   "language": "python",
   "name": "python3"
  },
  "language_info": {
   "codemirror_mode": {
    "name": "ipython",
    "version": 3
   },
   "file_extension": ".py",
   "mimetype": "text/x-python",
   "name": "python",
   "nbconvert_exporter": "python",
   "pygments_lexer": "ipython3",
   "version": "3.11.5"
  }
 },
 "nbformat": 4,
 "nbformat_minor": 5
}
